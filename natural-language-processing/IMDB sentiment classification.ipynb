{
 "cells": [
  {
   "cell_type": "markdown",
   "metadata": {},
   "source": [
    "## Loosely based on Chapter 6 of [Deep Learning with Python](https://www.manning.com/books/deep-learning-with-python)"
   ]
  },
  {
   "cell_type": "code",
   "execution_count": 75,
   "metadata": {},
   "outputs": [],
   "source": [
    "import keras, os\n",
    "from sklearn.model_selection import train_test_split\n",
    "import numpy as np\n",
    "import matplotlib.pyplot as plt\n",
    "from keras.layers import Dropout, Embedding, Flatten, Dense, SimpleRNN, LSTM, GRU, Bidirectional\n",
    "from keras.models import Sequential\n",
    "from keras import layers\n",
    "%matplotlib inline\n",
    "\n",
    "model_dir = 'models'"
   ]
  },
  {
   "cell_type": "code",
   "execution_count": 44,
   "metadata": {},
   "outputs": [],
   "source": [
    "def summarize_history(history):\n",
    "    acc = history.history['acc']\n",
    "    loss = history.history['loss']\n",
    "    val_acc = history.history['val_acc']\n",
    "    val_loss = history.history['val_loss']\n",
    "    \n",
    "    epochs = range(1, len(acc) + 1)\n",
    "    fig, ax = plt.subplots()\n",
    "    ax.plot(epochs, acc, 'bo-', label='Train acc')\n",
    "    ax.plot(epochs, loss, 'b--', label='Train loss')\n",
    "    ax.plot(epochs, val_acc, 'ro-', label='Val acc')\n",
    "    ax.plot(epochs, val_loss, 'r--', label='Val loss')\n",
    "    ax.set(ylim=[0, None],\n",
    "           xlabel='Epoch')\n",
    "    ax.legend()\n",
    "    print('Best validation accuracy: {} after epoch {}'.format(np.max(val_acc), np.argmax(val_acc) + 1))"
   ]
  },
  {
   "cell_type": "code",
   "execution_count": 3,
   "metadata": {},
   "outputs": [],
   "source": [
    "data_folder = 'aclImdb'\n",
    "train_dir = os.path.join(data_folder, 'train')\n",
    "\n",
    "labels = []\n",
    "texts = []\n",
    "\n",
    "def parse_txt_file(fname):\n",
    "    with open(fname, 'r') as f:\n",
    "        return f.read()\n",
    "\n",
    "def parse_folder(folder):\n",
    "    texts = []\n",
    "    for fname in os.listdir(folder):\n",
    "        if fname.endswith('.txt'):\n",
    "            texts.append(parse_txt_file(os.path.join(folder, fname)))\n",
    "    return texts\n",
    "\n",
    "def parse_data(directory): \n",
    "    neg_texts = parse_folder(os.path.join(directory, 'neg'))\n",
    "    pos_texts = parse_folder(os.path.join(directory, 'pos'))\n",
    "    labels = [0] * len(neg_texts)\n",
    "    labels.extend([1] * len(pos_texts))\n",
    "    return neg_texts + pos_texts, labels\n",
    "\n",
    "texts, labels = parse_data(train_dir)"
   ]
  },
  {
   "cell_type": "code",
   "execution_count": 4,
   "metadata": {},
   "outputs": [],
   "source": [
    "texts_train, texts_val, y_train, y_val = train_test_split(texts, labels, test_size=0.20, shuffle=True, random_state=42)"
   ]
  },
  {
   "cell_type": "code",
   "execution_count": 86,
   "metadata": {},
   "outputs": [],
   "source": [
    "from keras.preprocessing.text import Tokenizer\n",
    "from keras.preprocessing.sequence import pad_sequences\n",
    "\n",
    "maxlen = 500\n",
    "max_words = 10000\n",
    "\n",
    "tokenizer = Tokenizer(num_words=max_words)\n",
    "\n",
    "tokenizer.fit_on_texts(texts_train)\n",
    "x_train = pad_sequences(tokenizer.texts_to_sequences(texts_train), maxlen=maxlen)\n",
    "x_val = pad_sequences(tokenizer.texts_to_sequences(texts_val), maxlen=maxlen)"
   ]
  },
  {
   "cell_type": "code",
   "execution_count": 6,
   "metadata": {},
   "outputs": [
    {
     "name": "stdout",
     "output_type": "stream",
     "text": [
      "Found 80080 unique word tokens\n"
     ]
    }
   ],
   "source": [
    "word_index = tokenizer.word_index\n",
    "print('Found {} unique word tokens'.format(len(word_index)))"
   ]
  },
  {
   "cell_type": "markdown",
   "metadata": {},
   "source": [
    "### Model with word embedding and a small DNN classifier"
   ]
  },
  {
   "cell_type": "code",
   "execution_count": 7,
   "metadata": {
    "scrolled": true
   },
   "outputs": [
    {
     "name": "stdout",
     "output_type": "stream",
     "text": [
      "_________________________________________________________________\n",
      "Layer (type)                 Output Shape              Param #   \n",
      "=================================================================\n",
      "embedding_1 (Embedding)      (None, 100, 100)          1000000   \n",
      "_________________________________________________________________\n",
      "flatten_1 (Flatten)          (None, 10000)             0         \n",
      "_________________________________________________________________\n",
      "dense_1 (Dense)              (None, 32)                320032    \n",
      "_________________________________________________________________\n",
      "dense_2 (Dense)              (None, 1)                 33        \n",
      "=================================================================\n",
      "Total params: 1,320,065\n",
      "Trainable params: 1,320,065\n",
      "Non-trainable params: 0\n",
      "_________________________________________________________________\n"
     ]
    }
   ],
   "source": [
    "embedding_dim = 100\n",
    "\n",
    "model = Sequential()\n",
    "model.add(Embedding(max_words, embedding_dim, input_length=maxlen))\n",
    "model.add(Flatten())\n",
    "model.add(Dense(32, activation='relu'))\n",
    "model.add(Dense(1, activation='sigmoid'))\n",
    "model.summary()"
   ]
  },
  {
   "cell_type": "code",
   "execution_count": 8,
   "metadata": {},
   "outputs": [
    {
     "name": "stdout",
     "output_type": "stream",
     "text": [
      "Train on 20000 samples, validate on 5000 samples\n",
      "Epoch 1/10\n",
      "20000/20000 [==============================] - 4s 222us/step - loss: 0.4364 - acc: 0.7870 - val_loss: 0.3466 - val_acc: 0.8436\n",
      "Epoch 2/10\n",
      "20000/20000 [==============================] - 4s 210us/step - loss: 0.1423 - acc: 0.9491 - val_loss: 0.4629 - val_acc: 0.8166\n",
      "Epoch 3/10\n",
      "20000/20000 [==============================] - 4s 213us/step - loss: 0.0172 - acc: 0.9950 - val_loss: 0.6800 - val_acc: 0.8124\n",
      "Epoch 4/10\n",
      "20000/20000 [==============================] - 4s 205us/step - loss: 0.0011 - acc: 0.9996 - val_loss: 0.9403 - val_acc: 0.8092\n",
      "Epoch 5/10\n",
      "20000/20000 [==============================] - 4s 204us/step - loss: 2.5251e-05 - acc: 1.0000 - val_loss: 1.1062 - val_acc: 0.8144\n",
      "Epoch 6/10\n",
      "20000/20000 [==============================] - 4s 209us/step - loss: 2.2474e-07 - acc: 1.0000 - val_loss: 1.2118 - val_acc: 0.8120\n",
      "Epoch 7/10\n",
      "20000/20000 [==============================] - 4s 206us/step - loss: 1.1143e-07 - acc: 1.0000 - val_loss: 1.2180 - val_acc: 0.8144\n",
      "Epoch 8/10\n",
      "20000/20000 [==============================] - 4s 208us/step - loss: 1.1029e-07 - acc: 1.0000 - val_loss: 1.2200 - val_acc: 0.8152\n",
      "Epoch 9/10\n",
      "20000/20000 [==============================] - 4s 203us/step - loss: 1.0971e-07 - acc: 1.0000 - val_loss: 1.2237 - val_acc: 0.8152\n",
      "Epoch 10/10\n",
      "20000/20000 [==============================] - 4s 201us/step - loss: 1.0969e-07 - acc: 1.0000 - val_loss: 1.2236 - val_acc: 0.8156\n"
     ]
    }
   ],
   "source": [
    "model.compile(optimizer='rmsprop', loss='binary_crossentropy', metrics=['acc'])\n",
    "history = model.fit(x_train, y_train, epochs=10, batch_size=32, validation_data=(x_val, y_val))\n",
    "model.save(os.path.join(model_dir, 'imdb-embedding.h5'))"
   ]
  },
  {
   "cell_type": "code",
   "execution_count": 46,
   "metadata": {},
   "outputs": [
    {
     "name": "stdout",
     "output_type": "stream",
     "text": [
      "Best validation accuracy: 0.8374 after epoch 2\n"
     ]
    },
    {
     "data": {
      "image/png": "[encoded data removed]",
      "text/plain": [
       "<Figure size 432x288 with 1 Axes>"
      ]
     },
     "metadata": {
      "needs_background": "light"
     },
     "output_type": "display_data"
    }
   ],
   "source": [
    "summarize_history(history)"
   ]
  },
  {
   "cell_type": "markdown",
   "metadata": {},
   "source": [
    "Try Dropout to combat overfitting:"
   ]
  },
  {
   "cell_type": "code",
   "execution_count": 38,
   "metadata": {},
   "outputs": [
    {
     "data": {
      "text/plain": [
       "0"
      ]
     },
     "execution_count": 38,
     "metadata": {},
     "output_type": "execute_result"
    }
   ],
   "source": [
    "import keras.backend as K\n",
    "from keras.layers import Lambda\n",
    "model = Sequential()\n",
    "model.add(Dropout(rate=0.20, seed=42, input_shape=(maxlen,)))\n",
    "def cast_to_int(x):\n",
    "    return K.cast(x, dtype='int32')\n",
    "model.add(Lambda(cast_to_int))\n",
    "\n",
    "np.max(x_train - model.predict(x_train))"
   ]
  },
  {
   "cell_type": "code",
   "execution_count": 39,
   "metadata": {},
   "outputs": [
    {
     "name": "stdout",
     "output_type": "stream",
     "text": [
      "_________________________________________________________________\n",
      "Layer (type)                 Output Shape              Param #   \n",
      "=================================================================\n",
      "embedding_11 (Embedding)     (None, 100, 100)          1000000   \n",
      "_________________________________________________________________\n",
      "dropout_34 (Dropout)         (None, 100, 100)          0         \n",
      "_________________________________________________________________\n",
      "flatten_11 (Flatten)         (None, 10000)             0         \n",
      "_________________________________________________________________\n",
      "dropout_35 (Dropout)         (None, 10000)             0         \n",
      "_________________________________________________________________\n",
      "dense_19 (Dense)             (None, 32)                320032    \n",
      "_________________________________________________________________\n",
      "dense_20 (Dense)             (None, 1)                 33        \n",
      "=================================================================\n",
      "Total params: 1,320,065\n",
      "Trainable params: 1,320,065\n",
      "Non-trainable params: 0\n",
      "_________________________________________________________________\n"
     ]
    }
   ],
   "source": [
    "def cast_to_int(x):\n",
    "    return K.cast(x, dtype='int32')\n",
    "\n",
    "model = Sequential()\n",
    "# model.add(Dropout(rate=0.20, seed=42, input_shape=(maxlen,)))\n",
    "# model.add(Lambda(cast_to_int))\n",
    "model.add(Embedding(max_words, embedding_dim, input_length=maxlen))\n",
    "model.add(Dropout(rate=0.20, noise_shape=(None, maxlen, 1), seed=42))\n",
    "model.add(Flatten())\n",
    "model.add(Dropout(rate=0.20, seed=42))\n",
    "model.add(Dense(32, activation='relu'))\n",
    "model.add(Dense(1, activation='sigmoid'))\n",
    "\n",
    "model.summary()"
   ]
  },
  {
   "cell_type": "code",
   "execution_count": 40,
   "metadata": {},
   "outputs": [
    {
     "name": "stdout",
     "output_type": "stream",
     "text": [
      "Train on 20000 samples, validate on 5000 samples\n",
      "Epoch 1/10\n",
      "20000/20000 [==============================] - 6s 299us/step - loss: 0.4830 - acc: 0.7520 - val_loss: 0.3567 - val_acc: 0.8348\n",
      "Epoch 2/10\n",
      "20000/20000 [==============================] - 5s 253us/step - loss: 0.2387 - acc: 0.9037 - val_loss: 0.3688 - val_acc: 0.8374\n",
      "Epoch 3/10\n",
      "20000/20000 [==============================] - 5s 252us/step - loss: 0.1054 - acc: 0.9609 - val_loss: 0.4627 - val_acc: 0.8264\n",
      "Epoch 4/10\n",
      "20000/20000 [==============================] - 5s 255us/step - loss: 0.0443 - acc: 0.9837 - val_loss: 0.5884 - val_acc: 0.8170\n",
      "Epoch 5/10\n",
      "20000/20000 [==============================] - 5s 273us/step - loss: 0.0204 - acc: 0.9925 - val_loss: 0.6998 - val_acc: 0.8250\n",
      "Epoch 6/10\n",
      "20000/20000 [==============================] - 6s 279us/step - loss: 0.0137 - acc: 0.9950 - val_loss: 0.7649 - val_acc: 0.8246\n",
      "Epoch 7/10\n",
      "20000/20000 [==============================] - 5s 264us/step - loss: 0.0085 - acc: 0.9971 - val_loss: 0.8830 - val_acc: 0.8184\n",
      "Epoch 8/10\n",
      "20000/20000 [==============================] - 6s 286us/step - loss: 0.0072 - acc: 0.9975 - val_loss: 0.9589 - val_acc: 0.8136\n",
      "Epoch 9/10\n",
      "20000/20000 [==============================] - 5s 257us/step - loss: 0.0059 - acc: 0.9981 - val_loss: 1.0120 - val_acc: 0.8166\n",
      "Epoch 10/10\n",
      "20000/20000 [==============================] - 6s 279us/step - loss: 0.0058 - acc: 0.9977 - val_loss: 1.0519 - val_acc: 0.8206\n"
     ]
    }
   ],
   "source": [
    "model.compile(optimizer='rmsprop', loss='binary_crossentropy', metrics=['acc'])\n",
    "history = model.fit(x_train, y_train, epochs=10, batch_size=32, validation_data=(x_val, y_val))\n",
    "model.save(os.path.join(model_dir, 'imdb-embedding-dropout.h5'))"
   ]
  },
  {
   "cell_type": "code",
   "execution_count": 45,
   "metadata": {},
   "outputs": [
    {
     "name": "stdout",
     "output_type": "stream",
     "text": [
      "Best validation accuracy: 0.8374 after epoch 2\n"
     ]
    },
    {
     "data": {
      "image/png": "[encoded data removed]",
      "text/plain": [
       "<Figure size 432x288 with 1 Axes>"
      ]
     },
     "metadata": {
      "needs_background": "light"
     },
     "output_type": "display_data"
    }
   ],
   "source": [
    "summarize_history(history)"
   ]
  },
  {
   "cell_type": "markdown",
   "metadata": {},
   "source": [
    "### Simple RNN"
   ]
  },
  {
   "cell_type": "code",
   "execution_count": 52,
   "metadata": {},
   "outputs": [
    {
     "name": "stdout",
     "output_type": "stream",
     "text": [
      "_________________________________________________________________\n",
      "Layer (type)                 Output Shape              Param #   \n",
      "=================================================================\n",
      "embedding_14 (Embedding)     (None, 100, 32)           320000    \n",
      "_________________________________________________________________\n",
      "simple_rnn_2 (SimpleRNN)     (None, 32)                2080      \n",
      "_________________________________________________________________\n",
      "dense_22 (Dense)             (None, 1)                 33        \n",
      "=================================================================\n",
      "Total params: 322,113\n",
      "Trainable params: 322,113\n",
      "Non-trainable params: 0\n",
      "_________________________________________________________________\n"
     ]
    }
   ],
   "source": [
    "embedding_dim = 32\n",
    "model = Sequential()\n",
    "model.add(Embedding(max_words, embedding_dim, input_length=maxlen))\n",
    "model.add(SimpleRNN(32, dropout=0.10, recurrent_dropout=0.10))\n",
    "model.add(Dense(1, activation='sigmoid'))\n",
    "\n",
    "model.summary()"
   ]
  },
  {
   "cell_type": "code",
   "execution_count": 53,
   "metadata": {},
   "outputs": [
    {
     "name": "stdout",
     "output_type": "stream",
     "text": [
      "Train on 20000 samples, validate on 5000 samples\n",
      "Epoch 1/10\n",
      "20000/20000 [==============================] - 17s 830us/step - loss: 0.7061 - acc: 0.5209 - val_loss: 0.6845 - val_acc: 0.5362\n",
      "Epoch 2/10\n",
      "20000/20000 [==============================] - 16s 799us/step - loss: 0.6794 - acc: 0.5575 - val_loss: 0.6632 - val_acc: 0.5884\n",
      "Epoch 3/10\n",
      "20000/20000 [==============================] - 16s 794us/step - loss: 0.6444 - acc: 0.6115 - val_loss: 0.6367 - val_acc: 0.6034\n",
      "Epoch 4/10\n",
      "20000/20000 [==============================] - 16s 802us/step - loss: 0.5873 - acc: 0.6853 - val_loss: 0.5589 - val_acc: 0.7114\n",
      "Epoch 5/10\n",
      "20000/20000 [==============================] - 16s 780us/step - loss: 0.5251 - acc: 0.7421 - val_loss: 0.5338 - val_acc: 0.7374\n",
      "Epoch 6/10\n",
      "20000/20000 [==============================] - 17s 827us/step - loss: 0.4852 - acc: 0.7741 - val_loss: 0.5051 - val_acc: 0.7606\n",
      "Epoch 7/10\n",
      "20000/20000 [==============================] - 16s 776us/step - loss: 0.4600 - acc: 0.7939 - val_loss: 0.4944 - val_acc: 0.7660\n",
      "Epoch 8/10\n",
      "20000/20000 [==============================] - 16s 799us/step - loss: 0.4364 - acc: 0.8063 - val_loss: 0.5166 - val_acc: 0.7564\n",
      "Epoch 9/10\n",
      "20000/20000 [==============================] - 16s 819us/step - loss: 0.4258 - acc: 0.8127 - val_loss: 0.4988 - val_acc: 0.7702\n",
      "Epoch 10/10\n",
      "20000/20000 [==============================] - 16s 812us/step - loss: 0.4153 - acc: 0.8197 - val_loss: 0.5189 - val_acc: 0.7676\n"
     ]
    }
   ],
   "source": [
    "model.compile(optimizer='rmsprop', loss='binary_crossentropy', metrics=['acc'])\n",
    "history = model.fit(x_train, y_train, epochs=10, batch_size=32, validation_data=(x_val, y_val))\n",
    "model.save(os.path.join(model_dir, 'imdb-embedding-rnn.h5'))"
   ]
  },
  {
   "cell_type": "code",
   "execution_count": 55,
   "metadata": {},
   "outputs": [
    {
     "name": "stdout",
     "output_type": "stream",
     "text": [
      "Best validation accuracy: 0.7702 after epoch 9\n"
     ]
    },
    {
     "data": {
      "image/png": "[encoded data removed]",
      "text/plain": [
       "<Figure size 432x288 with 1 Axes>"
      ]
     },
     "metadata": {
      "needs_background": "light"
     },
     "output_type": "display_data"
    }
   ],
   "source": [
    "summarize_history(history)"
   ]
  },
  {
   "cell_type": "markdown",
   "metadata": {},
   "source": [
    "### Try the more powerful LSTM"
   ]
  },
  {
   "cell_type": "code",
   "execution_count": 60,
   "metadata": {},
   "outputs": [
    {
     "name": "stdout",
     "output_type": "stream",
     "text": [
      "_________________________________________________________________\n",
      "Layer (type)                 Output Shape              Param #   \n",
      "=================================================================\n",
      "embedding_16 (Embedding)     (None, 100, 32)           320000    \n",
      "_________________________________________________________________\n",
      "lstm_2 (LSTM)                (None, 32)                8320      \n",
      "_________________________________________________________________\n",
      "dense_24 (Dense)             (None, 1)                 33        \n",
      "=================================================================\n",
      "Total params: 328,353\n",
      "Trainable params: 328,353\n",
      "Non-trainable params: 0\n",
      "_________________________________________________________________\n"
     ]
    }
   ],
   "source": [
    "model = Sequential()\n",
    "model.add(Embedding(max_words, embedding_dim, input_length=maxlen))\n",
    "model.add(LSTM(32, dropout=0.10, recurrent_dropout=0.10))\n",
    "model.add(Dense(1, activation='sigmoid'))\n",
    "\n",
    "model.summary()"
   ]
  },
  {
   "cell_type": "code",
   "execution_count": 61,
   "metadata": {},
   "outputs": [
    {
     "name": "stdout",
     "output_type": "stream",
     "text": [
      "Train on 20000 samples, validate on 5000 samples\n",
      "Epoch 1/10\n",
      "20000/20000 [==============================] - 18s 920us/step - loss: 0.5290 - acc: 0.7512 - val_loss: 0.3669 - val_acc: 0.8402\n",
      "Epoch 2/10\n",
      "20000/20000 [==============================] - 16s 799us/step - loss: 0.3498 - acc: 0.8602 - val_loss: 0.3513 - val_acc: 0.8498\n",
      "Epoch 3/10\n",
      "20000/20000 [==============================] - 16s 802us/step - loss: 0.2924 - acc: 0.8854 - val_loss: 0.3381 - val_acc: 0.8566\n",
      "Epoch 4/10\n",
      "20000/20000 [==============================] - 17s 848us/step - loss: 0.2596 - acc: 0.9012 - val_loss: 0.3509 - val_acc: 0.8550\n",
      "Epoch 5/10\n",
      "20000/20000 [==============================] - 17s 848us/step - loss: 0.2354 - acc: 0.9092 - val_loss: 0.5336 - val_acc: 0.8040\n",
      "Epoch 6/10\n",
      "20000/20000 [==============================] - 16s 814us/step - loss: 0.2147 - acc: 0.9186 - val_loss: 0.3653 - val_acc: 0.8492\n",
      "Epoch 7/10\n",
      "20000/20000 [==============================] - 16s 806us/step - loss: 0.1990 - acc: 0.9265 - val_loss: 0.4140 - val_acc: 0.8348\n",
      "Epoch 8/10\n",
      "20000/20000 [==============================] - 17s 830us/step - loss: 0.1864 - acc: 0.9321 - val_loss: 0.4038 - val_acc: 0.8396\n",
      "Epoch 9/10\n",
      "20000/20000 [==============================] - 16s 820us/step - loss: 0.1752 - acc: 0.9361 - val_loss: 0.5174 - val_acc: 0.8252\n",
      "Epoch 10/10\n",
      "20000/20000 [==============================] - 16s 824us/step - loss: 0.1665 - acc: 0.9410 - val_loss: 0.4098 - val_acc: 0.8468\n"
     ]
    }
   ],
   "source": [
    "model.compile(optimizer='rmsprop', loss='binary_crossentropy', metrics=['acc'])\n",
    "history = model.fit(x_train, y_train, epochs=10, batch_size=128, validation_data=(x_val, y_val))\n",
    "model.save(os.path.join(model_dir, 'imdb-embedding-lstm.h5'))"
   ]
  },
  {
   "cell_type": "code",
   "execution_count": 62,
   "metadata": {},
   "outputs": [
    {
     "name": "stdout",
     "output_type": "stream",
     "text": [
      "Best validation accuracy: 0.8566 after epoch 3\n"
     ]
    },
    {
     "data": {
      "image/png": "[encoded data removed]",
      "text/plain": [
       "<Figure size 432x288 with 1 Axes>"
      ]
     },
     "metadata": {
      "needs_background": "light"
     },
     "output_type": "display_data"
    }
   ],
   "source": [
    "summarize_history(history)"
   ]
  },
  {
   "cell_type": "markdown",
   "metadata": {},
   "source": [
    "### GRU layer"
   ]
  },
  {
   "cell_type": "code",
   "execution_count": null,
   "metadata": {},
   "outputs": [],
   "source": [
    "model = Sequential()\n",
    "model.add(Embedding(max_words, embedding_dim, input_length=maxlen))\n",
    "model.add(GRU(32, dropout=0.10, recurrent_dropout=0.10))\n",
    "model.add(Dense(1, activation='sigmoid'))\n",
    "\n",
    "model.summary()"
   ]
  },
  {
   "cell_type": "code",
   "execution_count": 65,
   "metadata": {},
   "outputs": [
    {
     "name": "stdout",
     "output_type": "stream",
     "text": [
      "Train on 20000 samples, validate on 5000 samples\n",
      "Epoch 1/10\n",
      "20000/20000 [==============================] - 14s 716us/step - loss: 0.3902 - acc: 0.8333 - val_loss: 0.4230 - val_acc: 0.8086\n",
      "Epoch 2/10\n",
      "20000/20000 [==============================] - 13s 657us/step - loss: 0.3288 - acc: 0.8669 - val_loss: 0.3780 - val_acc: 0.8296\n",
      "Epoch 3/10\n",
      "20000/20000 [==============================] - 13s 658us/step - loss: 0.2928 - acc: 0.8840 - val_loss: 0.4213 - val_acc: 0.8096\n",
      "Epoch 4/10\n",
      "20000/20000 [==============================] - 13s 645us/step - loss: 0.2727 - acc: 0.8925 - val_loss: 0.3767 - val_acc: 0.8348\n",
      "Epoch 5/10\n",
      "20000/20000 [==============================] - 12s 603us/step - loss: 0.2507 - acc: 0.9043 - val_loss: 0.4279 - val_acc: 0.8228\n",
      "Epoch 6/10\n",
      "20000/20000 [==============================] - 12s 605us/step - loss: 0.2318 - acc: 0.9111 - val_loss: 0.4343 - val_acc: 0.8200\n",
      "Epoch 7/10\n",
      "20000/20000 [==============================] - 12s 602us/step - loss: 0.2180 - acc: 0.9191 - val_loss: 0.3902 - val_acc: 0.8484\n",
      "Epoch 8/10\n",
      "20000/20000 [==============================] - 12s 617us/step - loss: 0.2050 - acc: 0.9231 - val_loss: 0.4011 - val_acc: 0.8336\n",
      "Epoch 9/10\n",
      "20000/20000 [==============================] - 12s 613us/step - loss: 0.1933 - acc: 0.9271 - val_loss: 0.3924 - val_acc: 0.8360\n",
      "Epoch 10/10\n",
      "20000/20000 [==============================] - 12s 611us/step - loss: 0.1815 - acc: 0.9340 - val_loss: 0.4085 - val_acc: 0.8440\n"
     ]
    }
   ],
   "source": [
    "model.compile(optimizer='rmsprop', loss='binary_crossentropy', metrics=['acc'])\n",
    "history = model.fit(x_train, y_train, epochs=10, batch_size=128, validation_data=(x_val, y_val))\n",
    "model.save(os.path.join(model_dir, 'imdb-embedding-gru.h5'))"
   ]
  },
  {
   "cell_type": "code",
   "execution_count": 67,
   "metadata": {},
   "outputs": [
    {
     "name": "stdout",
     "output_type": "stream",
     "text": [
      "Best validation accuracy: 0.8484 after epoch 7\n"
     ]
    },
    {
     "data": {
      "image/png": "[encoded data removed]",
      "text/plain": [
       "<Figure size 432x288 with 1 Axes>"
      ]
     },
     "metadata": {
      "needs_background": "light"
     },
     "output_type": "display_data"
    }
   ],
   "source": [
    "summarize_history(history)"
   ]
  },
  {
   "cell_type": "markdown",
   "metadata": {},
   "source": [
    "## Bidirectional LSTM"
   ]
  },
  {
   "cell_type": "code",
   "execution_count": 68,
   "metadata": {},
   "outputs": [
    {
     "name": "stdout",
     "output_type": "stream",
     "text": [
      "_________________________________________________________________\n",
      "Layer (type)                 Output Shape              Param #   \n",
      "=================================================================\n",
      "embedding_18 (Embedding)     (None, 100, 32)           320000    \n",
      "_________________________________________________________________\n",
      "bidirectional_1 (Bidirection (None, 64)                16640     \n",
      "_________________________________________________________________\n",
      "dense_26 (Dense)             (None, 1)                 65        \n",
      "=================================================================\n",
      "Total params: 336,705\n",
      "Trainable params: 336,705\n",
      "Non-trainable params: 0\n",
      "_________________________________________________________________\n"
     ]
    }
   ],
   "source": [
    "model = Sequential()\n",
    "model.add(Embedding(max_words, embedding_dim, input_length=maxlen))\n",
    "model.add(Bidirectional(LSTM(32, dropout=0.10, recurrent_dropout=0.10)))\n",
    "model.add(Dense(1, activation='sigmoid'))\n",
    "\n",
    "model.summary()"
   ]
  },
  {
   "cell_type": "code",
   "execution_count": 69,
   "metadata": {},
   "outputs": [
    {
     "name": "stdout",
     "output_type": "stream",
     "text": [
      "Train on 20000 samples, validate on 5000 samples\n",
      "Epoch 1/10\n",
      "20000/20000 [==============================] - 21s 1ms/step - loss: 0.5337 - acc: 0.7340 - val_loss: 0.3966 - val_acc: 0.8294\n",
      "Epoch 2/10\n",
      "20000/20000 [==============================] - 19s 940us/step - loss: 0.3454 - acc: 0.8569 - val_loss: 0.3551 - val_acc: 0.8420\n",
      "Epoch 3/10\n",
      "20000/20000 [==============================] - 19s 954us/step - loss: 0.2793 - acc: 0.8935 - val_loss: 0.3665 - val_acc: 0.8394\n",
      "Epoch 4/10\n",
      "20000/20000 [==============================] - 19s 953us/step - loss: 0.2410 - acc: 0.9103 - val_loss: 0.3553 - val_acc: 0.8582\n",
      "Epoch 5/10\n",
      "20000/20000 [==============================] - 19s 959us/step - loss: 0.2180 - acc: 0.9198 - val_loss: 0.4177 - val_acc: 0.8568\n",
      "Epoch 6/10\n",
      "20000/20000 [==============================] - 19s 967us/step - loss: 0.1970 - acc: 0.9290 - val_loss: 0.3452 - val_acc: 0.8502\n",
      "Epoch 7/10\n",
      "20000/20000 [==============================] - 19s 970us/step - loss: 0.1857 - acc: 0.9331 - val_loss: 0.3941 - val_acc: 0.8414\n",
      "Epoch 8/10\n",
      "20000/20000 [==============================] - 19s 947us/step - loss: 0.1710 - acc: 0.9389 - val_loss: 0.3904 - val_acc: 0.8354\n",
      "Epoch 9/10\n",
      "20000/20000 [==============================] - 19s 971us/step - loss: 0.1617 - acc: 0.9414 - val_loss: 0.4200 - val_acc: 0.8488\n",
      "Epoch 10/10\n",
      "20000/20000 [==============================] - 19s 957us/step - loss: 0.1523 - acc: 0.9448 - val_loss: 0.3902 - val_acc: 0.8440\n"
     ]
    }
   ],
   "source": [
    "model.compile(optimizer='rmsprop', loss='binary_crossentropy', metrics=['acc'])\n",
    "history = model.fit(x_train, y_train, epochs=10, batch_size=128, validation_data=(x_val, y_val))\n",
    "model.save(os.path.join(model_dir, 'imdb-embedding-bidir-lstm.h5'))"
   ]
  },
  {
   "cell_type": "code",
   "execution_count": 70,
   "metadata": {},
   "outputs": [
    {
     "name": "stdout",
     "output_type": "stream",
     "text": [
      "Best validation accuracy: 0.8582 after epoch 4\n"
     ]
    },
    {
     "data": {
      "image/png": "[encoded data removed]",
      "text/plain": [
       "<Figure size 432x288 with 1 Axes>"
      ]
     },
     "metadata": {
      "needs_background": "light"
     },
     "output_type": "display_data"
    }
   ],
   "source": [
    "summarize_history(history)"
   ]
  },
  {
   "cell_type": "markdown",
   "metadata": {},
   "source": [
    "## Stacking RNN layers"
   ]
  },
  {
   "cell_type": "code",
   "execution_count": 72,
   "metadata": {},
   "outputs": [
    {
     "name": "stdout",
     "output_type": "stream",
     "text": [
      "_________________________________________________________________\n",
      "Layer (type)                 Output Shape              Param #   \n",
      "=================================================================\n",
      "embedding_20 (Embedding)     (None, 100, 32)           320000    \n",
      "_________________________________________________________________\n",
      "gru_3 (GRU)                  (None, 100, 32)           6240      \n",
      "_________________________________________________________________\n",
      "gru_4 (GRU)                  (None, 64)                18624     \n",
      "_________________________________________________________________\n",
      "dense_27 (Dense)             (None, 1)                 65        \n",
      "=================================================================\n",
      "Total params: 344,929\n",
      "Trainable params: 344,929\n",
      "Non-trainable params: 0\n",
      "_________________________________________________________________\n"
     ]
    }
   ],
   "source": [
    "model = Sequential()\n",
    "model.add(Embedding(max_words, embedding_dim, input_length=maxlen))\n",
    "model.add(GRU(32,\n",
    "              dropout=0.10, \n",
    "              recurrent_dropout=0.10,\n",
    "              return_sequences=True))\n",
    "model.add(GRU(64,\n",
    "              dropout=0.10, \n",
    "              recurrent_dropout=0.10))\n",
    "model.add(Dense(1, activation='sigmoid'))\n",
    "\n",
    "model.summary()"
   ]
  },
  {
   "cell_type": "code",
   "execution_count": 73,
   "metadata": {},
   "outputs": [
    {
     "name": "stdout",
     "output_type": "stream",
     "text": [
      "Train on 20000 samples, validate on 5000 samples\n",
      "Epoch 1/10\n",
      "20000/20000 [==============================] - 27s 1ms/step - loss: 0.5256 - acc: 0.7344 - val_loss: 0.4825 - val_acc: 0.7572\n",
      "Epoch 2/10\n",
      "20000/20000 [==============================] - 25s 1ms/step - loss: 0.3551 - acc: 0.8509 - val_loss: 0.3979 - val_acc: 0.8196\n",
      "Epoch 3/10\n",
      "20000/20000 [==============================] - 24s 1ms/step - loss: 0.2940 - acc: 0.8813 - val_loss: 0.3481 - val_acc: 0.8538\n",
      "Epoch 4/10\n",
      "20000/20000 [==============================] - 25s 1ms/step - loss: 0.2625 - acc: 0.8996 - val_loss: 0.3690 - val_acc: 0.8406\n",
      "Epoch 5/10\n",
      "20000/20000 [==============================] - 25s 1ms/step - loss: 0.2362 - acc: 0.9121 - val_loss: 0.3906 - val_acc: 0.8368\n",
      "Epoch 6/10\n",
      "20000/20000 [==============================] - 25s 1ms/step - loss: 0.2179 - acc: 0.9198 - val_loss: 0.4010 - val_acc: 0.8378\n",
      "Epoch 7/10\n",
      "20000/20000 [==============================] - 25s 1ms/step - loss: 0.2020 - acc: 0.9254 - val_loss: 0.3862 - val_acc: 0.8442\n",
      "Epoch 8/10\n",
      "20000/20000 [==============================] - 25s 1ms/step - loss: 0.1873 - acc: 0.9313 - val_loss: 0.3986 - val_acc: 0.8464\n",
      "Epoch 9/10\n",
      "20000/20000 [==============================] - 25s 1ms/step - loss: 0.1717 - acc: 0.9385 - val_loss: 0.4218 - val_acc: 0.8420\n",
      "Epoch 10/10\n",
      "20000/20000 [==============================] - 25s 1ms/step - loss: 0.1599 - acc: 0.9415 - val_loss: 0.4026 - val_acc: 0.8420\n"
     ]
    }
   ],
   "source": [
    "model.compile(optimizer='rmsprop', loss='binary_crossentropy', metrics=['acc'])\n",
    "history = model.fit(x_train, y_train, epochs=10, batch_size=128, validation_data=(x_val, y_val))\n",
    "model.save(os.path.join(model_dir, 'imdb-embedding-gru-gru.h5'))"
   ]
  },
  {
   "cell_type": "code",
   "execution_count": 79,
   "metadata": {},
   "outputs": [
    {
     "name": "stdout",
     "output_type": "stream",
     "text": [
      "Best validation accuracy: 0.8538 after epoch 3\n"
     ]
    },
    {
     "data": {
      "image/png": "[encoded data removed]",
      "text/plain": [
       "<Figure size 432x288 with 1 Axes>"
      ]
     },
     "metadata": {
      "needs_background": "light"
     },
     "output_type": "display_data"
    }
   ],
   "source": [
    "summarize_history(history)"
   ]
  },
  {
   "cell_type": "markdown",
   "metadata": {},
   "source": [
    "## 1D convolutional network"
   ]
  },
  {
   "cell_type": "code",
   "execution_count": 80,
   "metadata": {},
   "outputs": [
    {
     "name": "stdout",
     "output_type": "stream",
     "text": [
      "_________________________________________________________________\n",
      "Layer (type)                 Output Shape              Param #   \n",
      "=================================================================\n",
      "embedding_24 (Embedding)     (None, 100, 32)           320000    \n",
      "_________________________________________________________________\n",
      "conv1d_5 (Conv1D)            (None, 94, 32)            7200      \n",
      "_________________________________________________________________\n",
      "max_pooling1d_3 (MaxPooling1 (None, 18, 32)            0         \n",
      "_________________________________________________________________\n",
      "conv1d_6 (Conv1D)            (None, 12, 64)            14400     \n",
      "_________________________________________________________________\n",
      "global_max_pooling1d_2 (Glob (None, 64)                0         \n",
      "_________________________________________________________________\n",
      "dense_29 (Dense)             (None, 1)                 65        \n",
      "=================================================================\n",
      "Total params: 341,665\n",
      "Trainable params: 341,665\n",
      "Non-trainable params: 0\n",
      "_________________________________________________________________\n"
     ]
    }
   ],
   "source": [
    "model = Sequential()\n",
    "model.add(Embedding(max_words, embedding_dim, input_length=maxlen))\n",
    "model.add(layers.Conv1D(32, 7, activation='relu'))\n",
    "model.add(layers.MaxPooling1D(5))\n",
    "model.add(layers.Conv1D(64, 7, activation='relu'))\n",
    "model.add(layers.GlobalMaxPooling1D())\n",
    "model.add(Dense(1, activation='sigmoid'))\n",
    "\n",
    "model.summary()"
   ]
  },
  {
   "cell_type": "code",
   "execution_count": 81,
   "metadata": {},
   "outputs": [
    {
     "name": "stdout",
     "output_type": "stream",
     "text": [
      "Train on 20000 samples, validate on 5000 samples\n",
      "Epoch 1/10\n",
      "20000/20000 [==============================] - 4s 199us/step - loss: 0.5544 - acc: 0.6966 - val_loss: 0.4081 - val_acc: 0.8100\n",
      "Epoch 2/10\n",
      "20000/20000 [==============================] - 2s 118us/step - loss: 0.3356 - acc: 0.8556 - val_loss: 0.3998 - val_acc: 0.8208\n",
      "Epoch 3/10\n",
      "20000/20000 [==============================] - 2s 121us/step - loss: 0.2727 - acc: 0.8885 - val_loss: 0.4267 - val_acc: 0.8186\n",
      "Epoch 4/10\n",
      "20000/20000 [==============================] - 2s 122us/step - loss: 0.2302 - acc: 0.9082 - val_loss: 0.4160 - val_acc: 0.8252\n",
      "Epoch 5/10\n",
      "20000/20000 [==============================] - 2s 122us/step - loss: 0.1940 - acc: 0.9263 - val_loss: 0.4349 - val_acc: 0.8242\n",
      "Epoch 6/10\n",
      "20000/20000 [==============================] - 2s 120us/step - loss: 0.1591 - acc: 0.9423 - val_loss: 0.4802 - val_acc: 0.8172\n",
      "Epoch 7/10\n",
      "20000/20000 [==============================] - 2s 121us/step - loss: 0.1226 - acc: 0.9568 - val_loss: 0.5045 - val_acc: 0.8148\n",
      "Epoch 8/10\n",
      "20000/20000 [==============================] - 2s 122us/step - loss: 0.0855 - acc: 0.9730 - val_loss: 0.5682 - val_acc: 0.8124\n",
      "Epoch 9/10\n",
      "20000/20000 [==============================] - 2s 122us/step - loss: 0.0559 - acc: 0.9839 - val_loss: 0.6326 - val_acc: 0.8088\n",
      "Epoch 10/10\n",
      "20000/20000 [==============================] - 2s 119us/step - loss: 0.0304 - acc: 0.9931 - val_loss: 0.7468 - val_acc: 0.8076\n"
     ]
    }
   ],
   "source": [
    "model.compile(optimizer='rmsprop', loss='binary_crossentropy', metrics=['acc'])\n",
    "history = model.fit(x_train, y_train, epochs=10, batch_size=128, validation_data=(x_val, y_val))\n",
    "model.save(os.path.join(model_dir, 'imdb-embedding-conv-1d.h5'))"
   ]
  },
  {
   "cell_type": "code",
   "execution_count": 82,
   "metadata": {},
   "outputs": [
    {
     "name": "stdout",
     "output_type": "stream",
     "text": [
      "Best validation accuracy: 0.8252 after epoch 4\n"
     ]
    },
    {
     "data": {
      "image/png": "[encoded data removed]",
      "text/plain": [
       "<Figure size 432x288 with 1 Axes>"
      ]
     },
     "metadata": {
      "needs_background": "light"
     },
     "output_type": "display_data"
    }
   ],
   "source": [
    "summarize_history(history)"
   ]
  },
  {
   "cell_type": "markdown",
   "metadata": {},
   "source": [
    "## Combining 1D convolutional network with RNNs"
   ]
  },
  {
   "cell_type": "code",
   "execution_count": 88,
   "metadata": {},
   "outputs": [
    {
     "name": "stdout",
     "output_type": "stream",
     "text": [
      "_________________________________________________________________\n",
      "Layer (type)                 Output Shape              Param #   \n",
      "=================================================================\n",
      "embedding_26 (Embedding)     (None, 500, 32)           320000    \n",
      "_________________________________________________________________\n",
      "conv1d_9 (Conv1D)            (None, 494, 32)           7200      \n",
      "_________________________________________________________________\n",
      "max_pooling1d_5 (MaxPooling1 (None, 164, 32)           0         \n",
      "_________________________________________________________________\n",
      "conv1d_10 (Conv1D)           (None, 158, 32)           7200      \n",
      "_________________________________________________________________\n",
      "gru_6 (GRU)                  (None, 32)                6240      \n",
      "_________________________________________________________________\n",
      "dense_31 (Dense)             (None, 1)                 33        \n",
      "=================================================================\n",
      "Total params: 340,673\n",
      "Trainable params: 340,673\n",
      "Non-trainable params: 0\n",
      "_________________________________________________________________\n"
     ]
    }
   ],
   "source": [
    "model = Sequential()\n",
    "model.add(Embedding(max_words, embedding_dim, input_length=maxlen))\n",
    "model.add(layers.Conv1D(32, 7, activation='relu'))\n",
    "model.add(layers.MaxPooling1D(3))\n",
    "model.add(layers.Conv1D(32, 7, activation='relu'))\n",
    "model.add(layers.MaxPooling1D(3))\n",
    "model.add(layers.GRU(32, dropout=0.1, recurrent_dropout=0.5))\n",
    "model.add(layers.Dense(1, activation='sigmoid'))\n",
    "\n",
    "model.summary()"
   ]
  },
  {
   "cell_type": "code",
   "execution_count": 89,
   "metadata": {},
   "outputs": [
    {
     "name": "stdout",
     "output_type": "stream",
     "text": [
      "Train on 20000 samples, validate on 5000 samples\n",
      "Epoch 1/10\n",
      "20000/20000 [==============================] - 34s 2ms/step - loss: 0.5494 - acc: 0.7079 - val_loss: 0.4497 - val_acc: 0.7884\n",
      "Epoch 2/10\n",
      "20000/20000 [==============================] - 32s 2ms/step - loss: 0.3631 - acc: 0.8454 - val_loss: 0.4155 - val_acc: 0.8128\n",
      "Epoch 3/10\n",
      "20000/20000 [==============================] - 32s 2ms/step - loss: 0.2984 - acc: 0.8781 - val_loss: 0.3838 - val_acc: 0.8272\n",
      "Epoch 4/10\n",
      "20000/20000 [==============================] - 32s 2ms/step - loss: 0.2572 - acc: 0.8969 - val_loss: 0.4293 - val_acc: 0.8292\n",
      "Epoch 5/10\n",
      "20000/20000 [==============================] - 32s 2ms/step - loss: 0.2188 - acc: 0.9123 - val_loss: 0.3635 - val_acc: 0.8456\n",
      "Epoch 6/10\n",
      "20000/20000 [==============================] - 32s 2ms/step - loss: 0.1944 - acc: 0.9268 - val_loss: 0.4360 - val_acc: 0.8268\n",
      "Epoch 7/10\n",
      "20000/20000 [==============================] - 32s 2ms/step - loss: 0.1644 - acc: 0.9379 - val_loss: 0.4250 - val_acc: 0.8406\n",
      "Epoch 8/10\n",
      "20000/20000 [==============================] - 31s 2ms/step - loss: 0.1369 - acc: 0.9500 - val_loss: 0.4499 - val_acc: 0.8372\n",
      "Epoch 9/10\n",
      "20000/20000 [==============================] - 31s 2ms/step - loss: 0.1059 - acc: 0.9636 - val_loss: 0.4433 - val_acc: 0.8420\n",
      "Epoch 10/10\n",
      "20000/20000 [==============================] - 31s 2ms/step - loss: 0.0798 - acc: 0.9729 - val_loss: 0.4852 - val_acc: 0.8488\n"
     ]
    }
   ],
   "source": [
    "model.compile(optimizer='rmsprop', loss='binary_crossentropy', metrics=['acc'])\n",
    "history = model.fit(x_train, y_train, epochs=10, batch_size=128, validation_data=(x_val, y_val))\n",
    "model.save(os.path.join(model_dir, 'imdb-embedding-conv-1d-gru.h5'))"
   ]
  },
  {
   "cell_type": "code",
   "execution_count": 90,
   "metadata": {},
   "outputs": [
    {
     "name": "stdout",
     "output_type": "stream",
     "text": [
      "Best validation accuracy: 0.8488 after epoch 10\n"
     ]
    },
    {
     "data": {
      "image/png": "[encoded data removed]",
      "text/plain": [
       "<Figure size 432x288 with 1 Axes>"
      ]
     },
     "metadata": {
      "needs_background": "light"
     },
     "output_type": "display_data"
    }
   ],
   "source": [
    "summarize_history(history)"
   ]
  }
 ],
 "metadata": {
  "kernelspec": {
   "display_name": "Python 3",
   "language": "python",
   "name": "python3"
  },
  "language_info": {
   "codemirror_mode": {
    "name": "ipython",
    "version": 3
   },
   "file_extension": ".py",
   "mimetype": "text/x-python",
   "name": "python",
   "nbconvert_exporter": "python",
   "pygments_lexer": "ipython3",
   "version": "3.6.2"
  }
 },
 "nbformat": 4,
 "nbformat_minor": 2
}
