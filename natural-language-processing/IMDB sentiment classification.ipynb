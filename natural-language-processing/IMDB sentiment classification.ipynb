{
 "cells": [
  {
   "cell_type": "markdown",
   "metadata": {},
   "source": [
    "## Loosely based on Chapter 6 of [Deep Learning with Python](https://www.manning.com/books/deep-learning-with-python)"
   ]
  },
  {
   "cell_type": "code",
   "execution_count": 16,
   "metadata": {},
   "outputs": [],
   "source": [
    "import keras, os\n",
    "from sklearn.model_selection import train_test_split\n",
    "import numpy as np\n",
    "import matplotlib.pyplot as plt\n",
    "from keras.layers import Dropout\n",
    "%matplotlib inline\n",
    "\n",
    "model_dir = 'models'"
   ]
  },
  {
   "cell_type": "code",
   "execution_count": 2,
   "metadata": {},
   "outputs": [],
   "source": [
    "data_folder = 'aclImdb'\n",
    "train_dir = os.path.join(data_folder, 'train')\n",
    "\n",
    "labels = []\n",
    "texts = []\n",
    "\n",
    "def parse_txt_file(fname):\n",
    "    with open(fname, 'r') as f:\n",
    "        return f.read()\n",
    "\n",
    "def parse_folder(folder):\n",
    "    texts = []\n",
    "    for fname in os.listdir(folder):\n",
    "        if fname.endswith('.txt'):\n",
    "            texts.append(parse_txt_file(os.path.join(folder, fname)))\n",
    "    return texts\n",
    "\n",
    "def parse_data(directory): \n",
    "    neg_texts = parse_folder(os.path.join(directory, 'neg'))\n",
    "    pos_texts = parse_folder(os.path.join(directory, 'pos'))\n",
    "    labels = [0] * len(neg_texts)\n",
    "    labels.extend([1] * len(pos_texts))\n",
    "    return neg_texts + pos_texts, labels\n",
    "\n",
    "texts, labels = parse_data(train_dir)"
   ]
  },
  {
   "cell_type": "code",
   "execution_count": 3,
   "metadata": {},
   "outputs": [],
   "source": [
    "texts_train, texts_val, y_train, y_val = train_test_split(texts, labels, test_size=0.20, shuffle=True, random_state=42)"
   ]
  },
  {
   "cell_type": "code",
   "execution_count": 5,
   "metadata": {},
   "outputs": [],
   "source": [
    "from keras.preprocessing.text import Tokenizer\n",
    "from keras.preprocessing.sequence import pad_sequences\n",
    "\n",
    "maxlen = 100\n",
    "training_samples = 1000\n",
    "max_words = 10000\n",
    "\n",
    "tokenizer = Tokenizer(num_words=max_words)\n",
    "\n",
    "tokenizer.fit_on_texts(texts_train)\n",
    "x_train = pad_sequences(tokenizer.texts_to_sequences(texts_train), maxlen=maxlen)\n",
    "x_val = pad_sequences(tokenizer.texts_to_sequences(texts_val), maxlen=maxlen)"
   ]
  },
  {
   "cell_type": "code",
   "execution_count": 6,
   "metadata": {},
   "outputs": [
    {
     "name": "stdout",
     "output_type": "stream",
     "text": [
      "Found 80080 unique word tokens\n"
     ]
    }
   ],
   "source": [
    "word_index = tokenizer.word_index\n",
    "print('Found {} unique word tokens'.format(len(word_index)))"
   ]
  },
  {
   "cell_type": "markdown",
   "metadata": {},
   "source": [
    "### Model with word embedding and a small DNN classifier"
   ]
  },
  {
   "cell_type": "code",
   "execution_count": 7,
   "metadata": {
    "scrolled": true
   },
   "outputs": [
    {
     "name": "stdout",
     "output_type": "stream",
     "text": [
      "_________________________________________________________________\n",
      "Layer (type)                 Output Shape              Param #   \n",
      "=================================================================\n",
      "embedding_1 (Embedding)      (None, 100, 100)          1000000   \n",
      "_________________________________________________________________\n",
      "flatten_1 (Flatten)          (None, 10000)             0         \n",
      "_________________________________________________________________\n",
      "dense_1 (Dense)              (None, 32)                320032    \n",
      "_________________________________________________________________\n",
      "dense_2 (Dense)              (None, 1)                 33        \n",
      "=================================================================\n",
      "Total params: 1,320,065\n",
      "Trainable params: 1,320,065\n",
      "Non-trainable params: 0\n",
      "_________________________________________________________________\n"
     ]
    }
   ],
   "source": [
    "from keras.models import Sequential\n",
    "from keras.layers import Embedding, Flatten, Dense\n",
    "\n",
    "embedding_dim = 100\n",
    "\n",
    "model = Sequential()\n",
    "model.add(Embedding(max_words, embedding_dim, input_length=maxlen))\n",
    "model.add(Flatten())\n",
    "model.add(Dense(32, activation='relu'))\n",
    "model.add(Dense(1, activation='sigmoid'))\n",
    "model.summary()"
   ]
  },
  {
   "cell_type": "code",
   "execution_count": 8,
   "metadata": {},
   "outputs": [
    {
     "name": "stdout",
     "output_type": "stream",
     "text": [
      "Train on 20000 samples, validate on 5000 samples\n",
      "Epoch 1/10\n",
      "20000/20000 [==============================] - 5s 234us/step - loss: 0.4286 - acc: 0.7938 - val_loss: 0.3525 - val_acc: 0.8476\n",
      "Epoch 2/10\n",
      "20000/20000 [==============================] - 4s 201us/step - loss: 0.1366 - acc: 0.9506 - val_loss: 0.4528 - val_acc: 0.8226\n",
      "Epoch 3/10\n",
      "20000/20000 [==============================] - 4s 202us/step - loss: 0.0145 - acc: 0.9961 - val_loss: 0.7397 - val_acc: 0.8054\n",
      "Epoch 4/10\n",
      "20000/20000 [==============================] - 4s 201us/step - loss: 5.9039e-04 - acc: 0.9999 - val_loss: 0.9432 - val_acc: 0.8206\n",
      "Epoch 5/10\n",
      "20000/20000 [==============================] - 4s 203us/step - loss: 5.8525e-06 - acc: 1.0000 - val_loss: 1.1361 - val_acc: 0.8166\n",
      "Epoch 6/10\n",
      "20000/20000 [==============================] - 4s 201us/step - loss: 1.6082e-07 - acc: 1.0000 - val_loss: 1.2046 - val_acc: 0.8222\n",
      "Epoch 7/10\n",
      "20000/20000 [==============================] - 4s 201us/step - loss: 1.1127e-07 - acc: 1.0000 - val_loss: 1.2197 - val_acc: 0.8200\n",
      "Epoch 8/10\n",
      "20000/20000 [==============================] - 4s 202us/step - loss: 1.0985e-07 - acc: 1.0000 - val_loss: 1.2221 - val_acc: 0.8218\n",
      "Epoch 9/10\n",
      "20000/20000 [==============================] - 4s 202us/step - loss: 1.0976e-07 - acc: 1.0000 - val_loss: 1.2250 - val_acc: 0.8214\n",
      "Epoch 10/10\n",
      "20000/20000 [==============================] - 4s 202us/step - loss: 1.0973e-07 - acc: 1.0000 - val_loss: 1.2257 - val_acc: 0.8214\n"
     ]
    }
   ],
   "source": [
    "model.compile(optimizer='rmsprop', loss='binary_crossentropy', metrics=['acc'])\n",
    "history = model.fit(x_train, y_train, epochs=10, batch_size=32, validation_data=(x_val, y_val))\n",
    "model.save(os.path.join(model_dir, 'imdb-embedding.h5'))"
   ]
  },
  {
   "cell_type": "code",
   "execution_count": 14,
   "metadata": {},
   "outputs": [
    {
     "data": {
      "image/png": "[encoded data removed]",
      "text/plain": [
       "<Figure size 432x288 with 1 Axes>"
      ]
     },
     "metadata": {
      "needs_background": "light"
     },
     "output_type": "display_data"
    }
   ],
   "source": [
    "def print_history(history):\n",
    "    acc = history.history['acc']\n",
    "    loss = history.history['loss']\n",
    "    val_acc = history.history['val_acc']\n",
    "    val_loss = history.history['val_loss']\n",
    "    \n",
    "    epochs = range(1, len(acc) + 1)\n",
    "    fig, ax = plt.subplots()\n",
    "    ax.plot(epochs, acc, 'bo-', label='Train acc')\n",
    "    ax.plot(epochs, loss, 'b--', label='Train loss')\n",
    "    ax.plot(epochs, val_acc, 'ro-', label='Val acc')\n",
    "    ax.plot(epochs, val_loss, 'r--', label='Val loss')\n",
    "    ax.set(ylim=[0, None],\n",
    "           xlabel='Epoch')\n",
    "    ax.legend()\n",
    "    \n",
    "print_history(history)"
   ]
  },
  {
   "cell_type": "markdown",
   "metadata": {},
   "source": [
    "Try Dropout to combat overfitting:"
   ]
  },
  {
   "cell_type": "code",
   "execution_count": 20,
   "metadata": {},
   "outputs": [
    {
     "name": "stdout",
     "output_type": "stream",
     "text": [
      "_________________________________________________________________\n",
      "Layer (type)                 Output Shape              Param #   \n",
      "=================================================================\n",
      "embedding_3 (Embedding)      (None, 100, 100)          1000000   \n",
      "_________________________________________________________________\n",
      "dropout_2 (Dropout)          (None, 100, 100)          0         \n",
      "_________________________________________________________________\n",
      "flatten_3 (Flatten)          (None, 10000)             0         \n",
      "_________________________________________________________________\n",
      "dropout_3 (Dropout)          (None, 10000)             0         \n",
      "_________________________________________________________________\n",
      "dense_5 (Dense)              (None, 32)                320032    \n",
      "_________________________________________________________________\n",
      "dense_6 (Dense)              (None, 1)                 33        \n",
      "=================================================================\n",
      "Total params: 1,320,065\n",
      "Trainable params: 1,320,065\n",
      "Non-trainable params: 0\n",
      "_________________________________________________________________\n"
     ]
    }
   ],
   "source": [
    "model = Sequential()\n",
    "model.add(Embedding(max_words, embedding_dim, input_length=maxlen))\n",
    "model.add(Dropout(rate=0.20, noise_shape=(None, maxlen, 1), seed=42))\n",
    "model.add(Flatten())\n",
    "model.add(Dropout(rate=0.20), seed=42)\n",
    "model.add(Dense(32, activation='relu'))\n",
    "model.add(Dense(1, activation='sigmoid'))\n",
    "model.summary()"
   ]
  },
  {
   "cell_type": "code",
   "execution_count": 21,
   "metadata": {},
   "outputs": [
    {
     "name": "stdout",
     "output_type": "stream",
     "text": [
      "Train on 20000 samples, validate on 5000 samples\n",
      "Epoch 1/10\n",
      "20000/20000 [==============================] - 6s 280us/step - loss: 0.4746 - acc: 0.7596 - val_loss: 0.3645 - val_acc: 0.8374\n",
      "Epoch 2/10\n",
      "20000/20000 [==============================] - 5s 256us/step - loss: 0.2407 - acc: 0.9017 - val_loss: 0.3759 - val_acc: 0.8350\n",
      "Epoch 3/10\n",
      "20000/20000 [==============================] - 5s 262us/step - loss: 0.1076 - acc: 0.9597 - val_loss: 0.4680 - val_acc: 0.8258\n",
      "Epoch 4/10\n",
      "20000/20000 [==============================] - 5s 262us/step - loss: 0.0451 - acc: 0.9832 - val_loss: 0.5990 - val_acc: 0.8166\n",
      "Epoch 5/10\n",
      "20000/20000 [==============================] - 5s 259us/step - loss: 0.0242 - acc: 0.9911 - val_loss: 0.6915 - val_acc: 0.8160\n",
      "Epoch 6/10\n",
      "20000/20000 [==============================] - 5s 258us/step - loss: 0.0142 - acc: 0.9944 - val_loss: 0.7850 - val_acc: 0.8174\n",
      "Epoch 7/10\n",
      "20000/20000 [==============================] - 5s 259us/step - loss: 0.0116 - acc: 0.9960 - val_loss: 0.8547 - val_acc: 0.8148\n",
      "Epoch 8/10\n",
      "20000/20000 [==============================] - 5s 262us/step - loss: 0.0069 - acc: 0.9976 - val_loss: 0.9371 - val_acc: 0.8152\n",
      "Epoch 9/10\n",
      "20000/20000 [==============================] - 5s 259us/step - loss: 0.0057 - acc: 0.9978 - val_loss: 0.9843 - val_acc: 0.8188\n",
      "Epoch 10/10\n",
      "20000/20000 [==============================] - 5s 259us/step - loss: 0.0068 - acc: 0.9981 - val_loss: 1.0455 - val_acc: 0.8114\n"
     ]
    }
   ],
   "source": [
    "model.compile(optimizer='rmsprop', loss='binary_crossentropy', metrics=['acc'])\n",
    "history = model.fit(x_train, y_train, epochs=10, batch_size=32, validation_data=(x_val, y_val))\n",
    "model.save(os.path.join(model_dir, 'imdb-embedding.h5'))"
   ]
  },
  {
   "cell_type": "code",
   "execution_count": 22,
   "metadata": {},
   "outputs": [
    {
     "data": {
      "image/png": "[encoded data removed]",
      "text/plain": [
       "<Figure size 432x288 with 1 Axes>"
      ]
     },
     "metadata": {
      "needs_background": "light"
     },
     "output_type": "display_data"
    }
   ],
   "source": [
    "print_history(history)"
   ]
  },
  {
   "cell_type": "code",
   "execution_count": null,
   "metadata": {},
   "outputs": [],
   "source": []
  }
 ],
 "metadata": {
  "kernelspec": {
   "display_name": "Python 3",
   "language": "python",
   "name": "python3"
  },
  "language_info": {
   "codemirror_mode": {
    "name": "ipython",
    "version": 3
   },
   "file_extension": ".py",
   "mimetype": "text/x-python",
   "name": "python",
   "nbconvert_exporter": "python",
   "pygments_lexer": "ipython3",
   "version": "3.6.2"
  }
 },
 "nbformat": 4,
 "nbformat_minor": 2
}
