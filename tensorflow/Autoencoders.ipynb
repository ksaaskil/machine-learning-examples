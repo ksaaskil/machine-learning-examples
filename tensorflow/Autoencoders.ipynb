{
 "cells": [
  {
   "cell_type": "markdown",
   "metadata": {},
   "source": [
    "# Autoencoders\n",
    "Based on Chap. 15 of `Hands-on Machine Learning with Scikit-Learn and TensorFlow` by A. Géron."
   ]
  },
  {
   "cell_type": "markdown",
   "metadata": {},
   "source": [
    "Autoencoders are networks used for learning efficient representations of data, called _codings_. Autoencoders are used, e.g., for dimensionality reduction, feature extraction, and unsupervised pretraining. Generative autoencoders are able to create new data that look similar to the training data. Autoencoders are trained by expecting them to copy their inputs to outputs. By constraining the network to have, e.g., smaller size of codings than the input, the network cannot trivially copy the inputs to outputs."
   ]
  },
  {
   "cell_type": "markdown",
   "metadata": {},
   "source": [
    "Let us first create a simple linear autoencoder with a single layer, which can be shown to be equivalent to PCA:"
   ]
  },
  {
   "cell_type": "code",
   "execution_count": 1,
   "metadata": {},
   "outputs": [
    {
     "name": "stderr",
     "output_type": "stream",
     "text": [
      "/Users/ksaaskil/.pyenv/versions/3.5.0/envs/python3.5.0/lib/python3.5/site-packages/h5py/__init__.py:36: FutureWarning: Conversion of the second argument of issubdtype from `float` to `np.floating` is deprecated. In future, it will be treated as `np.float64 == np.dtype(float).type`.\n",
      "  from ._conv import register_converters as _register_converters\n"
     ]
    }
   ],
   "source": [
    "import tensorflow as tf\n",
    "import numpy as np\n",
    "import matplotlib.pyplot as plt\n",
    "from tensorflow.examples.tutorials.mnist import input_data\n",
    "\n",
    "def reset_graph(seed=42):\n",
    "    tf.reset_default_graph()\n",
    "    tf.set_random_seed(seed)\n",
    "    np.random.seed(seed)"
   ]
  },
  {
   "cell_type": "code",
   "execution_count": 2,
   "metadata": {},
   "outputs": [
    {
     "name": "stdout",
     "output_type": "stream",
     "text": [
      "Epoch: 10\tMSE: 1.12\n",
      "Epoch: 20\tMSE: 0.85\n",
      "Epoch: 30\tMSE: 0.68\n",
      "Epoch: 40\tMSE: 0.55\n",
      "Epoch: 50\tMSE: 0.43\n",
      "Epoch: 60\tMSE: 0.34\n",
      "Epoch: 70\tMSE: 0.25\n",
      "Epoch: 80\tMSE: 0.17\n",
      "Epoch: 90\tMSE: 0.11\n",
      "Epoch: 100\tMSE: 0.08\n",
      "Epoch: 110\tMSE: 0.07\n",
      "Epoch: 120\tMSE: 0.06\n",
      "Epoch: 130\tMSE: 0.06\n",
      "Epoch: 140\tMSE: 0.05\n",
      "Epoch: 150\tMSE: 0.05\n",
      "Epoch: 160\tMSE: 0.05\n",
      "Epoch: 170\tMSE: 0.05\n",
      "Epoch: 180\tMSE: 0.05\n",
      "Epoch: 190\tMSE: 0.05\n",
      "Epoch: 200\tMSE: 0.05\n",
      "Epoch: 210\tMSE: 0.05\n",
      "Epoch: 220\tMSE: 0.05\n",
      "Epoch: 230\tMSE: 0.05\n",
      "Epoch: 240\tMSE: 0.05\n",
      "Epoch: 250\tMSE: 0.05\n",
      "Epoch: 260\tMSE: 0.05\n",
      "Epoch: 270\tMSE: 0.05\n",
      "Epoch: 280\tMSE: 0.05\n",
      "Epoch: 290\tMSE: 0.05\n",
      "Epoch: 300\tMSE: 0.05\n",
      "Epoch: 310\tMSE: 0.04\n",
      "Epoch: 320\tMSE: 0.04\n",
      "Epoch: 330\tMSE: 0.04\n",
      "Epoch: 340\tMSE: 0.04\n",
      "Epoch: 350\tMSE: 0.04\n",
      "Epoch: 360\tMSE: 0.04\n",
      "Epoch: 370\tMSE: 0.04\n",
      "Epoch: 380\tMSE: 0.04\n",
      "Epoch: 390\tMSE: 0.04\n",
      "Epoch: 400\tMSE: 0.04\n",
      "Epoch: 410\tMSE: 0.04\n",
      "Epoch: 420\tMSE: 0.04\n",
      "Epoch: 430\tMSE: 0.04\n",
      "Epoch: 440\tMSE: 0.04\n",
      "Epoch: 450\tMSE: 0.04\n",
      "Epoch: 460\tMSE: 0.04\n",
      "Epoch: 470\tMSE: 0.04\n",
      "Epoch: 480\tMSE: 0.04\n",
      "Epoch: 490\tMSE: 0.04\n",
      "Epoch: 500\tMSE: 0.04\n",
      "Epoch: 510\tMSE: 0.04\n",
      "Epoch: 520\tMSE: 0.04\n",
      "Epoch: 530\tMSE: 0.04\n",
      "Epoch: 540\tMSE: 0.04\n",
      "Epoch: 550\tMSE: 0.04\n",
      "Epoch: 560\tMSE: 0.04\n",
      "Epoch: 570\tMSE: 0.04\n",
      "Epoch: 580\tMSE: 0.04\n",
      "Epoch: 590\tMSE: 0.04\n",
      "Epoch: 600\tMSE: 0.04\n",
      "Epoch: 610\tMSE: 0.04\n",
      "Epoch: 620\tMSE: 0.04\n",
      "Epoch: 630\tMSE: 0.04\n",
      "Epoch: 640\tMSE: 0.04\n",
      "Epoch: 650\tMSE: 0.04\n",
      "Epoch: 660\tMSE: 0.04\n",
      "Epoch: 670\tMSE: 0.04\n",
      "Epoch: 680\tMSE: 0.04\n",
      "Epoch: 690\tMSE: 0.04\n",
      "Epoch: 700\tMSE: 0.04\n",
      "Epoch: 710\tMSE: 0.04\n",
      "Epoch: 720\tMSE: 0.04\n",
      "Epoch: 730\tMSE: 0.04\n",
      "Epoch: 740\tMSE: 0.04\n",
      "Epoch: 750\tMSE: 0.04\n",
      "Epoch: 760\tMSE: 0.04\n",
      "Epoch: 770\tMSE: 0.04\n",
      "Epoch: 780\tMSE: 0.04\n",
      "Epoch: 790\tMSE: 0.04\n",
      "Epoch: 800\tMSE: 0.04\n",
      "Epoch: 810\tMSE: 0.04\n",
      "Epoch: 820\tMSE: 0.04\n",
      "Epoch: 830\tMSE: 0.04\n",
      "Epoch: 840\tMSE: 0.04\n",
      "Epoch: 850\tMSE: 0.04\n",
      "Epoch: 860\tMSE: 0.04\n",
      "Epoch: 870\tMSE: 0.04\n",
      "Epoch: 880\tMSE: 0.04\n",
      "Epoch: 890\tMSE: 0.04\n",
      "Epoch: 900\tMSE: 0.04\n",
      "Epoch: 910\tMSE: 0.04\n",
      "Epoch: 920\tMSE: 0.04\n",
      "Epoch: 930\tMSE: 0.04\n",
      "Epoch: 940\tMSE: 0.04\n",
      "Epoch: 950\tMSE: 0.04\n",
      "Epoch: 960\tMSE: 0.04\n",
      "Epoch: 970\tMSE: 0.04\n",
      "Epoch: 980\tMSE: 0.04\n",
      "Epoch: 990\tMSE: 0.04\n",
      "Epoch: 1000\tMSE: 0.04\n"
     ]
    }
   ],
   "source": [
    "from sklearn.preprocessing import StandardScaler\n",
    "\n",
    "reset_graph()\n",
    "\n",
    "n_inputs = 4\n",
    "n_hidden = 2\n",
    "n_outputs = n_inputs\n",
    "learning_rate = 0.01\n",
    "\n",
    "X = tf.placeholder(tf.float32, shape=(None, n_inputs))\n",
    "# y = X\n",
    "\n",
    "codings = tf.layers.dense(X, n_hidden)\n",
    "outputs = tf.layers.dense(codings, n_outputs)\n",
    "\n",
    "reconstruction_loss = tf.reduce_mean(tf.square(X - outputs))\n",
    "\n",
    "optimizer = tf.train.AdamOptimizer(learning_rate=learning_rate)\n",
    "training_op = optimizer.minimize(reconstruction_loss)\n",
    "\n",
    "init = tf.global_variables_initializer()\n",
    "\n",
    "from sklearn.datasets import load_iris\n",
    "\n",
    "# iris dataset\n",
    "data = load_iris()\n",
    "X_train = data['data']\n",
    "X_train = StandardScaler().fit_transform(X=X_train)\n",
    "\n",
    "n_epochs = 1000\n",
    "\n",
    "with tf.Session() as sess:\n",
    "    init.run()\n",
    "    for epoch in range(1, n_epochs + 1):\n",
    "        mse, _ = sess.run([reconstruction_loss, training_op], feed_dict={X: X_train})\n",
    "        if epoch % 10 == 0:\n",
    "            print('Epoch: {}\\tMSE: {:.2f}'.format(epoch,mse))\n",
    "    projection = codings.eval(feed_dict={X: X_train})"
   ]
  },
  {
   "cell_type": "code",
   "execution_count": 3,
   "metadata": {},
   "outputs": [
    {
     "name": "stdout",
     "output_type": "stream",
     "text": [
      "PCA explained variance ratio: 0.9580097536148198\n"
     ]
    },
    {
     "data": {
      "image/png": "[encoded data removed]",
      "text/plain": [
       "<Figure size 432x288 with 1 Axes>"
      ]
     },
     "metadata": {},
     "output_type": "display_data"
    }
   ],
   "source": [
    "from sklearn.decomposition import PCA\n",
    "\n",
    "pca = PCA(n_components=2)\n",
    "pca_projection = pca.fit_transform(X=X_train)\n",
    "\n",
    "print('PCA explained variance ratio:', np.sum(pca.explained_variance_ratio_))\n",
    "\n",
    "import matplotlib.pyplot as plt\n",
    "\n",
    "plt.scatter(projection[:, 1], projection[:, 0], label='NN')\n",
    "plt.scatter(pca_projection[:, 0], pca_projection[:, 1], c='r', label='PCA')\n",
    "plt.legend()\n",
    "plt.show()"
   ]
  },
  {
   "cell_type": "markdown",
   "metadata": {},
   "source": [
    "### Stacked autoencoders\n",
    "Autoencoder with multiple hidden layers is called a _stacked autoencoder_ (or deep autoencoder). Adding layers helps the network to learn more complex codings, but one must be careful not to make the encoder too powerful. The architecture of the stacked autoencoder is typically symmetrical with respect to the center (coding) layer. It is common to tie the weights of the decoder layers to be equal to the weights of the encoder layers. This reduces the risk of overfitting and makes training faster.\n",
    "\n",
    "There's no known easy way to tie the weights using `tf.layers.dense`, but it can be done by defining layers from scratch as follows."
   ]
  },
  {
   "cell_type": "code",
   "execution_count": 4,
   "metadata": {},
   "outputs": [
    {
     "name": "stdout",
     "output_type": "stream",
     "text": [
      "Extracting /tmp/mnist/data/train-images-idx3-ubyte.gz\n",
      "Extracting /tmp/mnist/data/train-labels-idx1-ubyte.gz\n",
      "Extracting /tmp/mnist/data/t10k-images-idx3-ubyte.gz\n",
      "Extracting /tmp/mnist/data/t10k-labels-idx1-ubyte.gz\n",
      "Epoch: 10\tMSE: 0.42\n",
      "Epoch: 20\tMSE: 0.18\n",
      "Epoch: 30\tMSE: 0.14\n",
      "Epoch: 40\tMSE: 0.11\n",
      "Epoch: 50\tMSE: 0.10\n",
      "Epoch: 60\tMSE: 0.09\n",
      "Epoch: 70\tMSE: 0.08\n",
      "Epoch: 80\tMSE: 0.08\n",
      "Epoch: 90\tMSE: 0.07\n",
      "Epoch: 100\tMSE: 0.07\n"
     ]
    }
   ],
   "source": [
    "from functools import partial\n",
    "from tensorflow.examples.tutorials.mnist import input_data\n",
    "\n",
    "reset_graph()\n",
    "\n",
    "n_inputs = 28*28\n",
    "n_hidden1 = 300\n",
    "n_hidden2 = 150 # codings\n",
    "n_hidden3 = n_hidden1\n",
    "n_outputs = n_inputs\n",
    "\n",
    "learning_rate = 0.01\n",
    "l2_reg = 0.0001\n",
    "\n",
    "activation = tf.nn.elu\n",
    "\n",
    "kernel_regularizer = tf.contrib.layers.l2_regularizer(l2_reg)\n",
    "kernel_initializer = tf.contrib.layers.variance_scaling_initializer()\n",
    "\n",
    "X = tf.placeholder(tf.float32, shape=(None, n_inputs))\n",
    "\n",
    "weights1_init = kernel_initializer((n_inputs, n_hidden1))\n",
    "weights2_init = kernel_initializer((n_hidden1, n_hidden2))\n",
    "\n",
    "weights1 = tf.Variable(weights1_init, dtype=tf.float32, name='weights1')\n",
    "weights2 = tf.Variable(weights2_init, dtype=tf.float32, name='weights2')\n",
    "weights3 = tf.transpose(weights2, name='weights3')\n",
    "weights4 = tf.transpose(weights1, name='weights4')\n",
    "\n",
    "biases1 = tf.Variable(tf.zeros(n_hidden1), name='biases1')\n",
    "biases2 = tf.Variable(tf.zeros(n_hidden2), name='biases2')\n",
    "biases3 = tf.Variable(tf.zeros(n_hidden3), name='biases3')\n",
    "biases4 = tf.Variable(tf.zeros(n_outputs), name='biases4')\n",
    "\n",
    "hidden1 = activation(tf.matmul(X, weights1) + biases1)\n",
    "hidden2 = activation(tf.matmul(hidden1, weights2) + biases2)\n",
    "codings = hidden2\n",
    "hidden3 = activation(tf.matmul(hidden2, weights3) + biases3)\n",
    "outputs = activation(tf.matmul(hidden3, weights4) + biases4)\n",
    "\n",
    "reconstruction_loss = tf.reduce_mean(tf.square(outputs - X))\n",
    "reg_loss = kernel_regularizer(weights1) + kernel_regularizer(weights2)\n",
    "\n",
    "loss = reconstruction_loss + reg_loss\n",
    "\n",
    "optimizer = tf.train.AdamOptimizer(learning_rate=learning_rate)\n",
    "training_op = optimizer.minimize(loss)\n",
    "\n",
    "init = tf.global_variables_initializer()\n",
    "\n",
    "mnist = input_data.read_data_sets(\"/tmp/mnist/data\")\n",
    "\n",
    "X_train = mnist.train.images\n",
    "\n",
    "X_validation = mnist.validation.images\n",
    "\n",
    "n_epochs = 50\n",
    "\n",
    "with tf.Session() as sess:\n",
    "    init.run()\n",
    "    for epoch in range(1, n_epochs + 1):\n",
    "        mse, _ = sess.run([loss, training_op], feed_dict={X: X_train})\n",
    "        if epoch % 10 == 0:\n",
    "            print('Epoch: {}\\tMSE: {:.2f}'.format(epoch,mse))\n",
    "    outputs_val = outputs.eval(feed_dict={X: X_validation})\n"
   ]
  },
  {
   "cell_type": "code",
   "execution_count": 5,
   "metadata": {},
   "outputs": [
    {
     "data": {
      "image/png": "[encoded data removed]",
      "text/plain": [
       "<Figure size 432x288 with 20 Axes>"
      ]
     },
     "metadata": {},
     "output_type": "display_data"
    }
   ],
   "source": [
    "def plot_image(img, shape=(28, 28)):\n",
    "    img = img.reshape(shape)\n",
    "    plt.imshow(img, cmap='Greys', interpolation='nearest')\n",
    "    plt.axis('off')\n",
    "    \n",
    "n_test_digits = 10\n",
    "\n",
    "for i in range(n_test_digits):\n",
    "    plt.subplot(n_test_digits, 2, i * 2 + 1)\n",
    "    plot_image(X_validation[i])\n",
    "    plt.subplot(n_test_digits, 2, i * 2 + 2)\n",
    "    plot_image(outputs_val[i])\n",
    "\n",
    "plt.show()"
   ]
  },
  {
   "cell_type": "markdown",
   "metadata": {},
   "source": [
    "Instead of training the stacked autoencoder in one shot, it's often better to train shallow autoencoders one-by-one and then stack them."
   ]
  },
  {
   "cell_type": "code",
   "execution_count": 9,
   "metadata": {},
   "outputs": [
    {
     "name": "stdout",
     "output_type": "stream",
     "text": [
      "Extracting /tmp/mnist/data/train-images-idx3-ubyte.gz\n",
      "Extracting /tmp/mnist/data/train-labels-idx1-ubyte.gz\n",
      "Extracting /tmp/mnist/data/t10k-images-idx3-ubyte.gz\n",
      "Extracting /tmp/mnist/data/t10k-labels-idx1-ubyte.gz\n",
      "Phase 1 epoch: 10\tMSE: 0.11\n",
      "Phase 1 epoch: 20\tMSE: 0.09\n",
      "Phase 1 epoch: 30\tMSE: 0.06\n",
      "Phase 1 epoch: 40\tMSE: 0.05\n",
      "Phase 1 epoch: 50\tMSE: 0.04\n",
      "Phase 2 epoch: 10\tMSE: 0.06\n",
      "Phase 2 epoch: 20\tMSE: 0.04\n",
      "Phase 2 epoch: 30\tMSE: 0.03\n",
      "Phase 2 epoch: 40\tMSE: 0.02\n",
      "Phase 2 epoch: 50\tMSE: 0.02\n"
     ]
    }
   ],
   "source": [
    "reset_graph()\n",
    "\n",
    "X = tf.placeholder(tf.float32, shape=(None, n_inputs), name='X')\n",
    "\n",
    "kernel_initializer = tf.contrib.layers.variance_scaling_initializer()\n",
    "\n",
    "weights1_init = kernel_initializer((n_inputs, n_hidden1))\n",
    "weights2_init = kernel_initializer((n_hidden1, n_hidden2))\n",
    "\n",
    "weights1 = tf.Variable(weights1_init, dtype=tf.float32, name='weights1')\n",
    "weights2 = tf.Variable(weights2_init, dtype=tf.float32, name='weights2')\n",
    "weights3 = tf.transpose(weights2, name='weights3')\n",
    "weights4 = tf.transpose(weights1, name='weights4')\n",
    "\n",
    "biases1 = tf.Variable(tf.zeros(n_hidden1), name='biases1')\n",
    "biases2 = tf.Variable(tf.zeros(n_hidden2), name='biases2')\n",
    "biases3 = tf.Variable(tf.zeros(n_hidden3), name='biases3')\n",
    "biases4 = tf.Variable(tf.zeros(n_outputs), name='biases4')\n",
    "\n",
    "hidden1 = activation(tf.matmul(X, weights1) + biases1)\n",
    "hidden2 = activation(tf.matmul(hidden1, weights2) + biases2, name='codings')\n",
    "\n",
    "hidden3 = activation(tf.matmul(hidden2, weights3) + biases3)\n",
    "outputs = activation(tf.matmul(hidden3, weights4) + biases4)\n",
    "\n",
    "with tf.name_scope('train'):\n",
    "    optimizer = tf.train.AdamOptimizer(learning_rate=learning_rate, name='optimizer')\n",
    "\n",
    "l2_reg = 1e-4\n",
    "kernel_regularizer = tf.contrib.layers.l2_regularizer(l2_reg)\n",
    "    \n",
    "with tf.name_scope('phase1'):\n",
    "    phase1_outputs = tf.matmul(hidden1, weights4) + biases4\n",
    "    phase1_reconstruction_loss = tf.reduce_mean(tf.square(phase1_outputs - X))\n",
    "    phase1_reg_loss = kernel_regularizer(weights1)\n",
    "    phase1_loss = phase1_reconstruction_loss + phase1_reg_loss\n",
    "    phase1_training_op = optimizer.minimize(phase1_loss)\n",
    "    \n",
    "with tf.name_scope('phase2'):\n",
    "    phase2_reconstruction_loss = tf.reduce_mean(tf.square(hidden3 - hidden1))\n",
    "    phase2_reg_loss = kernel_regularizer(weights2)\n",
    "    phase2_loss = phase2_reconstruction_loss + phase2_reg_loss\n",
    "    train_vars = [weights2, biases2]\n",
    "    phase2_training_op = optimizer.minimize(phase2_loss, var_list=train_vars)\n",
    "\n",
    "init = tf.global_variables_initializer()\n",
    "\n",
    "saver = tf.train.Saver()\n",
    "\n",
    "mnist = input_data.read_data_sets(\"/tmp/mnist/data\")\n",
    "\n",
    "X_train = mnist.train.images\n",
    "\n",
    "X_validation = mnist.validation.images\n",
    "\n",
    "n_epochs = 50 # Per phase\n",
    "\n",
    "with tf.Session() as sess:\n",
    "    init.run()\n",
    "    \n",
    "    # Phase 1\n",
    "    for epoch in range(1, n_epochs + 1):\n",
    "        mse, _ = sess.run([phase1_loss, phase1_training_op], feed_dict={X: X_train})\n",
    "        if epoch % 10 == 0:\n",
    "            print('Phase 1 epoch: {}\\tMSE: {:.2f}'.format(epoch,mse))\n",
    "    h1_cache = hidden1.eval(feed_dict={X: X_train}) # Evaluate first layer outputs and feed in next phase\n",
    "    phase1_outputs_val = phase1_outputs.eval(feed_dict={X: X_validation})\n",
    "    \n",
    "    # Phase 2\n",
    "    for epoch in range(1, n_epochs + 1):\n",
    "        mse, _ = sess.run([phase2_loss, phase2_training_op], feed_dict={hidden1: h1_cache})\n",
    "        if epoch % 10 == 0:\n",
    "            print('Phase 2 epoch: {}\\tMSE: {:.2f}'.format(epoch,mse))\n",
    "    phase2_outputs_val = outputs.eval(feed_dict={X: X_validation})\n",
    "    \n",
    "    saver.save(sess, './tf-logs/chap-15-stacked-autoencoder')"
   ]
  },
  {
   "cell_type": "code",
   "execution_count": 10,
   "metadata": {},
   "outputs": [
    {
     "data": {
      "image/png": "[encoded data removed]",
      "text/plain": [
       "<Figure size 432x288 with 30 Axes>"
      ]
     },
     "metadata": {},
     "output_type": "display_data"
    }
   ],
   "source": [
    "def plot_image(img, shape=(28, 28)):\n",
    "    img = img.reshape(shape)\n",
    "    plt.imshow(img, cmap='Greys', interpolation='nearest')\n",
    "    plt.axis('off')\n",
    "    \n",
    "n_test_digits = 10\n",
    "\n",
    "for i in range(n_test_digits):\n",
    "    plt.subplot(n_test_digits, 3, i * 3 + 1)\n",
    "    plot_image(X_validation[i])\n",
    "    plt.subplot(n_test_digits, 3, i * 3 + 2)\n",
    "    plot_image(phase1_outputs_val[i])\n",
    "    plt.subplot(n_test_digits, 3, i * 3 + 3)\n",
    "    plot_image(phase2_outputs_val[i])\n",
    "\n",
    "plt.show()"
   ]
  },
  {
   "cell_type": "markdown",
   "metadata": {},
   "source": [
    "### Unsupervised pretraining\n",
    "It is typical in supervised machine learning that there are lots more training instances without labels available than instances without labels. For example, there are many more images available in the net than images with labels. In such cases, it makes sense to pretrain the network in unsupervised fashion: training an autoencoder to extract the relevant features, and then use the labeled data to train the classifier with the labeled data. "
   ]
  },
  {
   "cell_type": "code",
   "execution_count": 11,
   "metadata": {},
   "outputs": [
    {
     "name": "stdout",
     "output_type": "stream",
     "text": [
      "Extracting /tmp/mnist/data/train-images-idx3-ubyte.gz\n",
      "Extracting /tmp/mnist/data/train-labels-idx1-ubyte.gz\n",
      "Extracting /tmp/mnist/data/t10k-images-idx3-ubyte.gz\n",
      "Extracting /tmp/mnist/data/t10k-labels-idx1-ubyte.gz\n",
      "INFO:tensorflow:Restoring parameters from ./tf-logs/chap-15-stacked-autoencoder\n",
      "Classifier epoch: 50\tTrain loss: 0.22\tTrain acc: 93.429 %\tVal loss: 0.20\tVal acc: 93.92 %\n",
      "Classifier epoch: 100\tTrain loss: 0.13\tTrain acc: 95.887 %\tVal loss: 0.13\tVal acc: 96.16 %\n",
      "Classifier epoch: 150\tTrain loss: 0.10\tTrain acc: 97.060 %\tVal loss: 0.11\tVal acc: 96.94 %\n",
      "Classifier epoch: 200\tTrain loss: 0.07\tTrain acc: 97.756 %\tVal loss: 0.09\tVal acc: 97.36 %\n",
      "Classifier epoch: 250\tTrain loss: 0.06\tTrain acc: 98.267 %\tVal loss: 0.08\tVal acc: 97.60 %\n",
      "Classifier epoch: 300\tTrain loss: 0.05\tTrain acc: 98.687 %\tVal loss: 0.07\tVal acc: 97.74 %\n",
      "Classifier epoch: 350\tTrain loss: 0.04\tTrain acc: 99.067 %\tVal loss: 0.07\tVal acc: 97.86 %\n",
      "Classifier epoch: 400\tTrain loss: 0.03\tTrain acc: 99.320 %\tVal loss: 0.07\tVal acc: 97.86 %\n",
      "Classifier epoch: 450\tTrain loss: 0.02\tTrain acc: 99.529 %\tVal loss: 0.08\tVal acc: 97.86 %\n",
      "Classifier epoch: 500\tTrain loss: 0.02\tTrain acc: 99.718 %\tVal loss: 0.08\tVal acc: 97.90 %\n"
     ]
    }
   ],
   "source": [
    "# Dense classifier on top of the coding layer\n",
    "reset_graph()\n",
    "saver = tf.train.import_meta_graph('./tf-logs/chap-15-stacked-autoencoder.meta')\n",
    "\n",
    "n_hidden1 = 100\n",
    "n_hidden2 = 50\n",
    "n_classes = 10\n",
    "learning_rate = 0.01\n",
    "\n",
    "graph = tf.get_default_graph()\n",
    "\n",
    "X = graph.get_tensor_by_name('X:0')\n",
    "y = tf.placeholder(tf.int32, shape=(None))\n",
    "codings = graph.get_tensor_by_name('codings:0')\n",
    "\n",
    "he_init = tf.contrib.layers.variance_scaling_initializer(mode='FAN_AVG')\n",
    "dense_layer = partial(tf.layers.dense, activation=tf.nn.elu, kernel_initializer=he_init)\n",
    "\n",
    "with tf.name_scope('classifier'):\n",
    "    fc_layer1 = dense_layer(codings, n_hidden1, name='fc_layer1')\n",
    "    fc_layer2 = dense_layer(fc_layer1, n_hidden2, name='fc_layer2')\n",
    "    logits = dense_layer(fc_layer2, n_classes, activation=None, name='logits')\n",
    "\n",
    "with tf.name_scope('loss'):\n",
    "    xentropy = tf.nn.sparse_softmax_cross_entropy_with_logits(labels=y, logits=logits)\n",
    "    loss = tf.reduce_mean(xentropy, name='loss')\n",
    "\n",
    "with tf.name_scope('eval'):\n",
    "    correct = tf.nn.in_top_k(logits, y, 1)\n",
    "    accuracy = tf.reduce_mean(tf.cast(correct, tf.float32), name='accuracy')\n",
    "    \n",
    "with tf.name_scope(\"train_clf\"):\n",
    "    optimizer = tf.train.AdamOptimizer(learning_rate)\n",
    "    train_vars = tf.get_collection(tf.GraphKeys.TRAINABLE_VARIABLES,\n",
    "                                   scope=\"logits|fc_layer[12]\") # Only train the classifier layer\n",
    "    assert len(train_vars) == 6 # Three layers with weights and biases each\n",
    "    training_op = optimizer.minimize(loss, var_list=train_vars)\n",
    "\n",
    "init = tf.global_variables_initializer()\n",
    "\n",
    "mnist = input_data.read_data_sets(\"/tmp/mnist/data\")\n",
    "\n",
    "X_train = mnist.train.images\n",
    "y_train = mnist.train.labels\n",
    "\n",
    "X_validation = mnist.validation.images\n",
    "y_validation = mnist.validation.labels\n",
    "\n",
    "n_epochs = 500\n",
    "\n",
    "with tf.Session() as sess:\n",
    "    init.run() # Initialize variables (required for those not in the restored graph)\n",
    "    saver.restore(sess, './tf-logs/chap-15-stacked-autoencoder') # Restore autoencoder\n",
    "    codings_train = codings.eval(feed_dict={X: X_train})\n",
    "\n",
    "    for epoch in range(1, n_epochs + 1):\n",
    "        train_loss, train_acc, _ = sess.run([loss, accuracy, training_op], feed_dict={codings: codings_train, y: y_train})\n",
    "        if epoch % 50 == 0:\n",
    "            val_loss, val_acc = sess.run([loss, accuracy], feed_dict={X: X_validation, y:y_validation})\n",
    "            print('Classifier epoch: {}\\tTrain loss: {:.2f}\\tTrain acc: {:.3f} %\\tVal loss: {:.2f}\\tVal acc: {:.2f} %'\n",
    "                  .format(epoch, train_loss, train_acc*100, val_loss, val_acc * 100))\n"
   ]
  },
  {
   "cell_type": "markdown",
   "metadata": {},
   "source": [
    "### Denoising and sparse autoencoders\n",
    "Skipped."
   ]
  },
  {
   "cell_type": "markdown",
   "metadata": {},
   "source": [
    "### Variational autoencoders"
   ]
  },
  {
   "cell_type": "markdown",
   "metadata": {},
   "source": [
    "In a variational autoencoder, the coding layer produces probability distribution parameters like the mean $\\mathbf{\\mu}$ and standard deviation $\\mathbf{\\sigma}$ of a multivariable Gaussian distribution. The actual encoding for a given training instance is sampled from this distribution. After training, one can easily create new training instances by sampling encoding from the probability distribution and feeding it to the encoder. \n",
    "\n",
    "The cost function is composed of two parts, the first of which is the simple reconstruction loss used above. The second part is the _latent loss_ that pushes the autoencoder to have encodings that look like they were sampled from the Gaussian distribution. For this, the KL divergence between the encoding distribution and the target (Gaussian) distribution is used as the loss.\n",
    "\n",
    "Below, $\\gamma=\\log(\\sigma^2)$."
   ]
  },
  {
   "cell_type": "code",
   "execution_count": 14,
   "metadata": {},
   "outputs": [
    {
     "name": "stdout",
     "output_type": "stream",
     "text": [
      "Extracting /tmp/mnist/data/train-images-idx3-ubyte.gz\n",
      "Extracting /tmp/mnist/data/train-labels-idx1-ubyte.gz\n",
      "Extracting /tmp/mnist/data/t10k-images-idx3-ubyte.gz\n",
      "Extracting /tmp/mnist/data/t10k-labels-idx1-ubyte.gz\n",
      "Epoch: 5\tTrain loss: 15118.90\tVal loss: 392406.56\n",
      "Epoch: 10\tTrain loss: 14345.35\tVal loss: 366407.59\n",
      "Epoch: 15\tTrain loss: 14431.36\tVal loss: 352129.44\n",
      "Epoch: 20\tTrain loss: 13353.47\tVal loss: 345583.09\n",
      "Epoch: 25\tTrain loss: 13250.07\tVal loss: 342472.34\n",
      "Epoch: 30\tTrain loss: 12897.33\tVal loss: 338544.59\n",
      "Epoch: 35\tTrain loss: 12565.84\tVal loss: 335866.47\n",
      "Epoch: 40\tTrain loss: 13631.25\tVal loss: 332758.88\n",
      "Epoch: 45\tTrain loss: 12903.88\tVal loss: 334639.25\n",
      "Epoch: 50\tTrain loss: 12983.73\tVal loss: 329346.31\n"
     ]
    }
   ],
   "source": [
    "from functools import partial\n",
    "from tensorflow.examples.tutorials.mnist import input_data\n",
    "\n",
    "reset_graph()\n",
    "\n",
    "n_inputs = 28*28\n",
    "n_hidden1 = 500\n",
    "n_hidden2 = 400\n",
    "n_hidden3 = 20 # Codings\n",
    "n_hidden4 = n_hidden2\n",
    "n_hidden5 = n_hidden1\n",
    "n_outputs = n_inputs\n",
    "learning_rate = 0.001\n",
    "\n",
    "kernel_initializer = tf.contrib.layers.variance_scaling_initializer()\n",
    "\n",
    "dense_layer = partial(\n",
    "    tf.layers.dense, \n",
    "    activation=tf.nn.elu, \n",
    "    kernel_initializer=kernel_initializer)\n",
    "\n",
    "X = tf.placeholder(tf.float32, shape=(None, n_inputs))\n",
    "\n",
    "hidden1 = dense_layer(X, n_hidden1, name='hidden1')\n",
    "hidden2 = dense_layer(hidden1, n_hidden2, name='hidden2')\n",
    "hidden3_mean = dense_layer(hidden2, n_hidden3, name='hidden3_mean')\n",
    "hidden3_gamma = dense_layer(hidden2, n_hidden3, name='hidden3_gamma')\n",
    "noise = tf.random_normal(tf.shape(hidden3_mean), dtype=tf.float32)\n",
    "hidden3 = hidden3_mean + hidden3_gamma * noise\n",
    "hidden4 = dense_layer(hidden3, n_hidden4, name='hidden4')\n",
    "hidden5 = dense_layer(hidden4, n_hidden5, name='hidden5')\n",
    "logits = dense_layer(hidden5, n_outputs, activation=None, name=None)\n",
    "outputs = tf.sigmoid(logits)\n",
    "\n",
    "xentropy = tf.nn.sigmoid_cross_entropy_with_logits(labels=X, logits=logits)\n",
    "reconstruction_loss = tf.reduce_sum(xentropy)\n",
    "\n",
    "latent_loss = 0.5 * tf.reduce_sum(\n",
    "    tf.exp(hidden3_gamma) + tf.square(hidden3_mean) - 1 - hidden3_gamma)\n",
    "loss = reconstruction_loss + latent_loss\n",
    "\n",
    "optimizer = tf.train.AdamOptimizer(learning_rate=learning_rate)\n",
    "training_op = optimizer.minimize(loss)\n",
    "\n",
    "init = tf.global_variables_initializer()\n",
    "\n",
    "saver = tf.train.Saver()\n",
    "\n",
    "mnist = input_data.read_data_sets(\"/tmp/mnist/data\")\n",
    "X_train = mnist.train.images\n",
    "X_validation = mnist.validation.images\n",
    "\n",
    "n_epochs = 50\n",
    "batch_size = 200\n",
    "with tf.Session() as sess:\n",
    "    init.run()\n",
    "    \n",
    "    for epoch in range(1, n_epochs + 1):\n",
    "        n_batches = mnist.train.num_examples // batch_size\n",
    "        for i in range(n_batches):\n",
    "            X_batch, _ = mnist.train.next_batch(batch_size)\n",
    "            train_loss, _ = sess.run([loss, training_op], feed_dict={X: X_batch})\n",
    "        if epoch % 5 == 0:\n",
    "            val_loss = sess.run(loss, feed_dict={X: X_validation})\n",
    "            print('Epoch: {}\\tTrain loss: {:.2f}\\tVal loss: {:.2f}'.format(epoch, train_loss, val_loss))\n",
    "\n",
    "    saver.save(sess, './tf-logs/chap15-variational-autoencoder')"
   ]
  },
  {
   "cell_type": "markdown",
   "metadata": {},
   "source": [
    "Now create some images by sampling codings from a zero-mean unit-std normal distribution:"
   ]
  },
  {
   "cell_type": "code",
   "execution_count": 15,
   "metadata": {},
   "outputs": [
    {
     "name": "stdout",
     "output_type": "stream",
     "text": [
      "INFO:tensorflow:Restoring parameters from ./tf-logs/chap15-variational-autoencoder\n"
     ]
    },
    {
     "data": {
      "image/png": "[encoded data removed]",
      "text/plain": [
       "<Figure size 432x288 with 10 Axes>"
      ]
     },
     "metadata": {},
     "output_type": "display_data"
    }
   ],
   "source": [
    "import numpy as np\n",
    "\n",
    "n_test_digits = 10\n",
    "\n",
    "codings_rnd = np.random.normal(size=(n_test_digits, n_hidden3))\n",
    "\n",
    "def plot_image(img, shape=(28, 28)):\n",
    "    img = img.reshape(shape)\n",
    "    plt.imshow(img, cmap='Greys', interpolation='nearest')\n",
    "    plt.axis('off')\n",
    "\n",
    "with tf.Session() as sess:\n",
    "    saver.restore(sess, './tf-logs/chap15-variational-autoencoder')\n",
    "    output_imgs = outputs.eval(feed_dict={hidden3: codings_rnd})\n",
    "    \n",
    "for i in range(n_test_digits):\n",
    "    plt.subplot(n_test_digits, 10, i + 1)\n",
    "    plot_image(output_imgs[i])\n",
    "    \n",
    "plt.show()"
   ]
  }
 ],
 "metadata": {
  "kernelspec": {
   "display_name": "Python 3",
   "language": "python",
   "name": "python3"
  },
  "language_info": {
   "codemirror_mode": {
    "name": "ipython",
    "version": 3
   },
   "file_extension": ".py",
   "mimetype": "text/x-python",
   "name": "python",
   "nbconvert_exporter": "python",
   "pygments_lexer": "ipython3",
   "version": "3.5.0"
  }
 },
 "nbformat": 4,
 "nbformat_minor": 2
}
