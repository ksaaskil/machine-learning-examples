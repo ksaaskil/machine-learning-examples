{
  "cells": [
    {
      "cell_type": "markdown",
      "source": [
        "# Lemmatization"
      ],
      "metadata": {}
    },
    {
      "cell_type": "markdown",
      "source": [
        "Stemming and lemmatization have a [similar goal](https://nlp.stanford.edu/IR-book/html/htmledition/stemming-and-lemmatization-1.html): \n",
        "> The goal of both stemming and lemmatization is to reduce inflectional forms and sometimes derivationally related forms of a word to a common base form. For instance: \n",
        "\n",
        "> \"am, are, is $\\Rightarrow$ be\". \n",
        "\n",
        "> The result of this mapping of text will be something like:\n",
        "`the boy's cars are different colors` $\\Rightarrow$ \n",
        "`the boy car be differ color`. \n",
        "\n",
        "> However, the two words differ in their flavor. Stemming usually refers to a crude heuristic process that chops off the ends of words in the hope of achieving this goal correctly most of the time, and often includes the removal of derivational affixes. Lemmatization usually refers to doing things properly with the use of a vocabulary and morphological analysis of words, normally aiming to remove inflectional endings only and to return the base or dictionary form of a word, which is known as the lemma .\n",
        "\n",
        "SpaCy has only lemmatization available instead of simple stemming.\n"
      ],
      "metadata": {}
    },
    {
      "cell_type": "code",
      "source": [
        "import spacy"
      ],
      "outputs": [],
      "execution_count": 1,
      "metadata": {
        "collapsed": false,
        "outputHidden": false,
        "inputHidden": false
      }
    },
    {
      "cell_type": "code",
      "source": [
        "nlp = spacy.load(\"en_core_web_sm\")"
      ],
      "outputs": [],
      "execution_count": 3,
      "metadata": {
        "collapsed": false,
        "outputHidden": false,
        "inputHidden": false
      }
    },
    {
      "cell_type": "code",
      "source": [
        "doc1 = nlp(u\"I am a runner running in a race because I love to run since I ran since the day I first ran.\")"
      ],
      "outputs": [],
      "execution_count": 4,
      "metadata": {
        "collapsed": false,
        "outputHidden": false,
        "inputHidden": false
      }
    },
    {
      "cell_type": "code",
      "source": [
        "print(f\"{'Text':{12}}\\t{'POS':{12}}\\tLemma\\n{'-'*36}\")\n",
        "for token in doc1:\n",
        "  print(f\"{token.text:{12}}\\t{token.pos_:{12}}\\t{token.lemma_:{12}}\")"
      ],
      "outputs": [
        {
          "output_type": "stream",
          "name": "stdout",
          "text": [
            "Text        \tPOS         \tLemma\n",
            "------------------------------------\n",
            "I           \tPRON        \t-PRON-      \n",
            "am          \tVERB        \tbe          \n",
            "a           \tDET         \ta           \n",
            "runner      \tNOUN        \trunner      \n",
            "running     \tVERB        \trun         \n",
            "in          \tADP         \tin          \n",
            "a           \tDET         \ta           \n",
            "race        \tNOUN        \trace        \n",
            "because     \tADP         \tbecause     \n",
            "I           \tPRON        \t-PRON-      \n",
            "love        \tVERB        \tlove        \n",
            "to          \tPART        \tto          \n",
            "run         \tVERB        \trun         \n",
            "since       \tADP         \tsince       \n",
            "I           \tPRON        \t-PRON-      \n",
            "ran         \tVERB        \trun         \n",
            "since       \tADP         \tsince       \n",
            "the         \tDET         \tthe         \n",
            "day         \tNOUN        \tday         \n",
            "I           \tPRON        \t-PRON-      \n",
            "first       \tADV         \tfirst       \n",
            "ran         \tVERB        \trun         \n",
            ".           \tPUNCT       \t.           \n"
          ]
        }
      ],
      "execution_count": 22,
      "metadata": {
        "collapsed": false,
        "outputHidden": false,
        "inputHidden": false
      }
    },
    {
      "cell_type": "code",
      "source": [],
      "outputs": [],
      "execution_count": null,
      "metadata": {
        "collapsed": false,
        "outputHidden": false,
        "inputHidden": false
      }
    }
  ],
  "metadata": {
    "kernel_info": {
      "name": "nlp-3.6.2"
    },
    "language_info": {
      "name": "python",
      "version": "3.6.2",
      "mimetype": "text/x-python",
      "codemirror_mode": {
        "name": "ipython",
        "version": 3
      },
      "pygments_lexer": "ipython3",
      "nbconvert_exporter": "python",
      "file_extension": ".py"
    },
    "kernelspec": {
      "name": "nlp-3.6.2",
      "language": "python",
      "display_name": "Python nlp-3.6.2"
    },
    "nteract": {
      "version": "0.14.2"
    }
  },
  "nbformat": 4,
  "nbformat_minor": 0
}