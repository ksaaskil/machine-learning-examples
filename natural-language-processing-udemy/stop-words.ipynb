{
  "cells": [
    {
      "cell_type": "markdown",
      "source": [
        "# Stop words"
      ],
      "metadata": {}
    },
    {
      "cell_type": "markdown",
      "source": [
        "From [Wikipedia](https://en.wikipedia.org/wiki/Stop_words):\n",
        "> stop words are words which are filtered out before or after processing of natural language data (text).\n",
        "\n",
        "Stop words are common words that do not contain (much) information and can therefore be dropped before further analysis."
      ],
      "metadata": {}
    },
    {
      "cell_type": "code",
      "source": [
        "import spacy\n",
        "nlp = spacy.load(\"en_core_web_sm\")"
      ],
      "outputs": [
        {
          "output_type": "stream",
          "name": "stderr",
          "text": [
            "/Users/kimmo/.pyenv/versions/3.6.2/lib/python3.6/importlib/_bootstrap.py:205: RuntimeWarning: numpy.ufunc size changed, may indicate binary incompatibility. Expected 176 from C header, got 216 from PyObject\n",
            "  return f(*args, **kwds)\n"
          ]
        }
      ],
      "execution_count": 1,
      "metadata": {
        "collapsed": false,
        "outputHidden": false,
        "inputHidden": false
      }
    },
    {
      "cell_type": "code",
      "source": [
        "stop_words = nlp.Defaults.stop_words\n",
        "print(f\"Got {len(stop_words)} stop words.\")\n",
        "print(nlp.Defaults.stop_words)"
      ],
      "outputs": [
        {
          "output_type": "stream",
          "name": "stdout",
          "text": [
            "Got 326 stop words.\n",
            "{'becomes', 'sixty', 'latterly', 'myself', 'could', 'they', 'be', 'against', 'most', 'now', 'hundred', 'last', 'much', 'seems', 'twelve', 'everywhere', 'whither', 'yet', 'will', 'already', 'can', 'even', 'he', 'neither', 'some', 'than', 'doing', 'ever', 'i', 'towards', 'though', 'throughout', 'onto', 'part', 'herein', 'nowhere', 'own', 'take', 'him', 'there', 'nothing', 'when', 'every', 'thereby', 'sometimes', 'perhaps', 'behind', 'indeed', 'further', 'as', 'whereafter', '’d', 'she', 'you', '’ll', 'although', 'is', 'ten', 'noone', 'whole', 'seemed', 'do', 'thence', 'via', 'moreover', 'therein', 'because', 'were', 'bottom', 'any', 'themselves', 'since', 'front', 'elsewhere', 'six', 'less', 'see', 'someone', 'once', 'various', \"'d\", 'n‘t', '’s', 'quite', 'done', 'our', 'many', 'among', 'put', 'then', 'those', 'us', 'seeming', 'and', 'an', 'would', 'all', 'himself', 'make', 'its', 'everyone', 'here', 'a', 'least', '‘ll', 'yourself', 'mostly', 'from', 'which', 'may', 'into', 'unless', 'his', 'three', 'formerly', 'her', 'between', 'get', 'thus', 'anywhere', 'mine', 'nor', 'your', 'just', 'my', 'became', 'another', 'does', 'amount', 'except', 'ourselves', 'together', 'or', 'sometime', 'both', 'these', 'nine', '‘m', 'before', 'across', 'through', 'very', 'give', 'else', 'who', 'amongst', 'me', 'back', 'at', 'everything', 'whereby', 'wherever', 'are', 'am', 'meanwhile', \"'m\", 'not', 'again', 'that', 'within', \"'re\", 'ca', 'enough', 'whom', 'along', '’ve', 'yourselves', 'beforehand', 'them', 'by', 'others', 'this', 'whenever', '’m', 'somewhere', 'had', 'please', 'for', 'itself', 'eleven', 'go', 'one', \"n't\", 'same', 'been', '‘d', 'four', 'first', 'alone', 'anyhow', 'name', 'otherwise', 'over', 'beside', 'none', 'becoming', 'former', 'off', 'hereupon', 'out', 'really', 'seem', 'toward', 'always', 'using', 'anyone', 'no', 'we', 'somehow', 'whether', '‘ve', 'has', 'was', 'but', 'side', 'each', 'cannot', 'keep', 'call', 'more', 'on', 'their', 'to', 'whence', 'few', 'third', 'while', 'thereupon', 'above', 're', 'eight', 'might', 'twenty', 'either', 'afterwards', 'until', 'say', 'upon', \"'ll\", '‘re', 'fifteen', 'therefore', 'beyond', 'often', 'yours', 'thereafter', 'ours', 'top', 'hereby', '‘s', 'thru', 'with', 'whoever', 'if', 'latter', 'such', 'the', 'well', 'almost', 'hence', 'five', 'two', 'per', 'regarding', 'without', 'of', 'whatever', 'serious', 'below', 'nobody', 'only', 'several', 'up', 'around', 'how', 'also', 'full', 'never', 'rather', 'under', 'in', 'fifty', 'should', 'used', \"'ve\", 'anything', 'whose', 'nevertheless', 'whereas', 'being', 'made', 'so', 'what', 'wherein', 'why', 'besides', 'anyway', 'hers', 'next', 'something', 'whereupon', 'after', 'other', 'forty', 'have', 'empty', 'become', 'must', 'where', 'move', 'too', \"'s\", 'herself', 'down', 'namely', 'n’t', 'hereafter', 'still', 'during', 'about', 'however', 'show', 'due', '’re', 'it', 'did'}\n"
          ]
        }
      ],
      "execution_count": 3,
      "metadata": {
        "collapsed": false,
        "outputHidden": false,
        "inputHidden": false
      }
    },
    {
      "cell_type": "markdown",
      "source": [
        "Check if a word is a stop word:"
      ],
      "metadata": {}
    },
    {
      "cell_type": "code",
      "source": [
        "nlp.vocab[\"is\"].is_stop"
      ],
      "outputs": [],
      "execution_count": null,
      "metadata": {
        "collapsed": false,
        "outputHidden": false,
        "inputHidden": false
      }
    },
    {
      "cell_type": "markdown",
      "source": [
        "Adding a stop word:"
      ],
      "metadata": {}
    },
    {
      "cell_type": "code",
      "source": [
        "nlp.Defaults.stop_words.add(\"btw\")"
      ],
      "outputs": [],
      "execution_count": 7,
      "metadata": {
        "collapsed": false,
        "outputHidden": false,
        "inputHidden": false
      }
    },
    {
      "cell_type": "code",
      "source": [
        "nlp.vocab[\"btw\"].is_stop = True"
      ],
      "outputs": [],
      "execution_count": 8,
      "metadata": {
        "collapsed": false,
        "outputHidden": false,
        "inputHidden": false
      }
    },
    {
      "cell_type": "code",
      "source": [
        "print(f\"Now has {len(stop_words)} stop words.\")"
      ],
      "outputs": [
        {
          "output_type": "stream",
          "name": "stdout",
          "text": [
            "Now has 327 stop words.\n"
          ]
        }
      ],
      "execution_count": 9,
      "metadata": {
        "collapsed": false,
        "outputHidden": false,
        "inputHidden": false
      }
    },
    {
      "cell_type": "code",
      "source": [],
      "outputs": [],
      "execution_count": null,
      "metadata": {
        "collapsed": false,
        "outputHidden": false,
        "inputHidden": false
      }
    }
  ],
  "metadata": {
    "kernel_info": {
      "name": "nlp-3.6.2"
    },
    "language_info": {
      "name": "python",
      "version": "3.6.2",
      "mimetype": "text/x-python",
      "codemirror_mode": {
        "name": "ipython",
        "version": 3
      },
      "pygments_lexer": "ipython3",
      "nbconvert_exporter": "python",
      "file_extension": ".py"
    },
    "kernelspec": {
      "name": "nlp-3.6.2",
      "language": "python",
      "display_name": "Python nlp-3.6.2"
    },
    "nteract": {
      "version": "0.14.2"
    }
  },
  "nbformat": 4,
  "nbformat_minor": 0
}