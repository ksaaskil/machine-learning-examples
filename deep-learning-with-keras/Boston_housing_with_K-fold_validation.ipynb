{
 "cells": [
  {
   "cell_type": "code",
   "execution_count": null,
   "metadata": {},
   "outputs": [],
   "source": [
    "# Based on Ch. 3 example of \"Deep Learning with Python\" by F. Chollet\n",
    "# Adds sklearn k-fold validation to the example\n",
    "\n",
    "from keras.datasets import boston_housing\n",
    "from sklearn.utils import shuffle\n",
    "import numpy as np\n",
    "import matplotlib.pyplot as plt\n",
    "(train_data, train_targets), (test_data, test_targets) = boston_housing.load_data()\n",
    "\n",
    "# Shuffle for kicks\n",
    "train_data, train_targets = shuffle(train_data, train_targets, random_state = 0)\n",
    "test_data, test_targets = shuffle(test_data, test_targets, random_state = 0)\n",
    "\n",
    "# Targets to 2D tensors\n",
    "train_targets = np.reshape(train_targets, (train_targets.shape[0], 1))\n",
    "test_targets = np.reshape(test_targets, (test_targets.shape[0], 1))"
   ]
  },
  {
   "cell_type": "code",
   "execution_count": null,
   "metadata": {},
   "outputs": [],
   "source": [
    "from sklearn.preprocessing import StandardScaler\n",
    "\n",
    "sc_features = StandardScaler()\n",
    "X_train = sc_features.fit_transform(train_data)\n",
    "X_test = sc_features.transform(test_data)\n",
    "\n",
    "sc_labels = StandardScaler()\n",
    "sc_labels = sc_labels.fit(np.reshape(train_targets, (train_targets.shape[0], 1)))\n",
    "Y_train = sc_labels.transform(train_targets)\n",
    "Y_test = sc_labels.transform(test_targets)\n",
    "Y_train = train_targets\n",
    "Y_test = test_targets"
   ]
  },
  {
   "cell_type": "code",
   "execution_count": null,
   "metadata": {},
   "outputs": [],
   "source": [
    "from keras import models, layers\n",
    "from sklearn.model_selection import KFold\n",
    "\n",
    "def build_model():\n",
    "    model = models.Sequential()\n",
    "    model.add(layers.Dense(64, activation = 'relu', input_shape = (train_data.shape[1], )))\n",
    "    model.add(layers.Dense(64, activation = 'relu'))\n",
    "    model.add(layers.Dense(1)) # 1D regression\n",
    "    model.compile(optimizer = 'rmsprop', loss = 'mse', metrics = ['mse'])\n",
    "    return model\n",
    "\n",
    "def train_for(X_train, Y_train, X_validation, Y_validation):\n",
    "    model = build_model()\n",
    "    history = model.fit(X_train, Y_train, epochs = 500, verbose = 0, validation_data = (X_validation, Y_validation))\n",
    "    return history\n",
    "\n",
    "def k_fold_validate(folds):\n",
    "    kf = KFold(n_splits=folds)\n",
    "    split_indices = kf.split(X_train)\n",
    "    histories = []\n",
    "    for train_index, test_index in split_indices:\n",
    "        X_train_split = X_train[train_index]\n",
    "        Y_train_split = Y_train[train_index]\n",
    "        X_test_split = X_train[test_index]\n",
    "        Y_test_split = Y_train[test_index]\n",
    "        history = train_for(X_train_split, Y_train_split, X_test_split, Y_test_split)\n",
    "        histories.append(history)\n",
    "    return histories\n",
    "    \n",
    "histories = k_fold_validate(5)\n"
   ]
  },
  {
   "cell_type": "code",
   "execution_count": null,
   "metadata": {},
   "outputs": [],
   "source": [
    "def average_for(history_field):\n",
    "    vals = [history.history[history_field] for history in histories]\n",
    "    return np.mean(vals, axis = 0)\n",
    "\n",
    "losses = average_for('loss')\n",
    "val_losses = average_for('val_loss')\n",
    "epochs = range(1, len(losses) + 1)\n",
    "\n",
    "plt.clf()\n",
    "plt.plot(epochs, losses, 'bo', label='Training loss')\n",
    "plt.plot(epochs, val_losses, 'r-', label='Validation loss')\n",
    "plt.title('Training and validation loss')\n",
    "plt.xlabel('Epochs')\n",
    "plt.ylabel('Loss')\n",
    "plt.xlim([10, len(epochs)])\n",
    "plt.ylim([0, max(val_losses[10:])])\n",
    "plt.legend()\n",
    "plt.show()\n"
   ]
  }
 ],
 "metadata": {
  "language_info": {
   "name": "python",
   "pygments_lexer": "ipython3"
  }
 },
 "nbformat": 4,
 "nbformat_minor": 2
}
