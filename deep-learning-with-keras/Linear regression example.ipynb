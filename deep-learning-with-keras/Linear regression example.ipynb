{
 "cells": [
  {
   "cell_type": "markdown",
   "metadata": {},
   "source": [
    "## Toy example of 1D linear regression with Keras\n",
    "To demonstrate the basic workflow"
   ]
  },
  {
   "cell_type": "markdown",
   "metadata": {},
   "source": [
    "### Create features and targets (\"X\" and \"Y\")"
   ]
  },
  {
   "cell_type": "code",
   "execution_count": null,
   "metadata": {},
   "outputs": [],
   "source": [
    "import numpy as np\n",
    "\n",
    "hidden_slope = 2.0\n",
    "hidden_bias = 5.0\n",
    "\n",
    "hidden_model = lambda x: hidden_slope * x + hidden_bias\n",
    "\n",
    "samples = 100\n",
    "\n",
    "X = np.linspace(1, 10, samples)\n",
    "X = np.reshape(X, (-1, 1))\n",
    "\n",
    "Y_noise_std = 10\n",
    "\n",
    "Y = hidden_model(X) + np.random.randn(X.shape[0], X.shape[1]) * Y_noise_std\n",
    "\n",
    "print('X shape: (%d, %d)' % X.shape)\n",
    "print('Y shape: (%d, %d)' % Y.shape)"
   ]
  },
  {
   "cell_type": "markdown",
   "metadata": {},
   "source": [
    "### Visualize features and targets"
   ]
  },
  {
   "cell_type": "code",
   "execution_count": null,
   "metadata": {},
   "outputs": [],
   "source": [
    "import matplotlib.pyplot as plt\n",
    "%matplotlib inline\n",
    "\n",
    "plt.plot(X, Y, 'bo')\n",
    "plt.plot(X, hidden_model(X), 'r--')"
   ]
  },
  {
   "cell_type": "markdown",
   "metadata": {},
   "source": [
    "### Split data to training and validation sets and preprocess using StandardScaler"
   ]
  },
  {
   "cell_type": "code",
   "execution_count": null,
   "metadata": {},
   "outputs": [],
   "source": [
    "from sklearn.preprocessing import StandardScaler\n",
    "from sklearn.model_selection import train_test_split\n",
    "\n",
    "X_train, X_test, Y_train, Y_test = train_test_split(X, Y, test_size = 0.20, random_state = 42)\n",
    "\n",
    "X_scaler = StandardScaler()\n",
    "X_train = X_scaler.fit_transform(X_train)\n",
    "\n",
    "Y_scaler = StandardScaler()\n",
    "Y_train = Y_scaler.fit_transform(Y_train)\n",
    "\n",
    "plt.plot(X_train, Y_train, 'bo')\n",
    "plt.plot(X_scaler.transform(X), Y_scaler.transform(hidden_model(X)), 'r--')\n",
    "plt.xlabel('X scaled')\n",
    "plt.ylabel('Y scaled')"
   ]
  },
  {
   "cell_type": "markdown",
   "metadata": {},
   "source": [
    "### Create Keras model with one layer containing one node with linear activation"
   ]
  },
  {
   "cell_type": "code",
   "execution_count": null,
   "metadata": {},
   "outputs": [],
   "source": [
    "from keras.models import Sequential\n",
    "model = Sequential()\n",
    "\n",
    "from keras.layers import Dense\n",
    "from keras.activations import linear\n",
    "model.add(Dense(1, activation=linear, input_dim = 1))\n",
    "\n",
    "from keras import optimizers\n",
    "optimizer = optimizers.SGD(lr = 0.01)\n",
    "\n",
    "from keras import losses\n",
    "loss = losses.mean_squared_error\n",
    "\n",
    "model.compile(optimizer = optimizer, loss = loss, metrics = ['mse'])\n",
    "\n",
    "model.summary()"
   ]
  },
  {
   "cell_type": "markdown",
   "metadata": {},
   "source": [
    "### Train the model, plot training and validation loss vs. epochs"
   ]
  },
  {
   "cell_type": "code",
   "execution_count": null,
   "metadata": {},
   "outputs": [],
   "source": [
    "history = model.fit(X_train, Y_train, epochs = 50, verbose = 0, validation_split=0.10)\n",
    "\n",
    "history_dict = history.history\n",
    "\n",
    "plt.plot(history_dict['loss'], 'bo-', label = 'Training loss')\n",
    "plt.plot(history_dict['val_loss'], 'rs--', label = 'Validation loss')\n",
    "\n",
    "plt.xlabel('Epochs')\n",
    "plt.ylabel('Loss')\n",
    "plt.legend()"
   ]
  },
  {
   "cell_type": "markdown",
   "metadata": {},
   "source": [
    "### Predict targets for test set, plot and compare to model noise"
   ]
  },
  {
   "cell_type": "code",
   "execution_count": null,
   "metadata": {},
   "outputs": [],
   "source": [
    "Y_predicted = model.predict(X_scaler.transform(X_test))\n",
    "\n",
    "Y_predicted = Y_scaler.inverse_transform(Y_predicted)\n",
    "\n",
    "plt.plot(X_test, Y_test, 'bo', label = 'Test set')\n",
    "plt.plot(X_test, Y_predicted, 'ro', label = 'Predicted')\n",
    "plt.plot(X, hidden_model(X), 'k--', label = 'Hidden model')\n",
    "plt.legend()\n",
    "\n",
    "from sklearn.metrics import mean_squared_error\n",
    "print('RMS error %.1f (noise %.1f)' % (np.sqrt(mean_squared_error(Y_test, Y_predicted)), Y_noise_std))"
   ]
  }
 ],
 "metadata": {
  "language_info": {
   "name": "python",
   "pygments_lexer": "ipython3"
  }
 },
 "nbformat": 4,
 "nbformat_minor": 2
}
