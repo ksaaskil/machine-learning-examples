{
 "cells": [
  {
   "cell_type": "markdown",
   "metadata": {},
   "source": [
    "# [NumPy Quickstart tutorial](https://docs.scipy.org/doc/numpy/user/quickstart.html#quickstart-tutorial)\n",
    "### Basic properties of arrays"
   ]
  },
  {
   "cell_type": "code",
   "execution_count": null,
   "metadata": {},
   "outputs": [],
   "source": [
    "import numpy as np\n",
    "\n",
    "a = np.arange(15).reshape((3, 5))\n",
    "\n",
    "print('Shape: ', a.shape) # (3, 5)\n",
    "print('ndim: ', a.ndim) # 2\n",
    "print('dtype name:', a.dtype.name) # int64\n",
    "print('itemsize:', a.itemsize) # 8 (each element is 8 bytes)\n",
    "print('size: ', a.size) # 15\n",
    "print('type: ', type(a)) # <class 'numpy.ndarray'>"
   ]
  },
  {
   "cell_type": "markdown",
   "metadata": {},
   "source": [
    "### Creating arrays"
   ]
  },
  {
   "cell_type": "code",
   "execution_count": null,
   "metadata": {},
   "outputs": [],
   "source": [
    "a = np.zeros((3, 4))\n",
    "b = np.ones((4, 5))\n",
    "c = np.empty((3, 2)) # Random contents\n",
    "d = np.random.rand(4, 6)\n",
    "e = np.random.randn(1)\n",
    "f = np.fromfunction(lambda i, j: i + j, (3, 3), dtype=int)\n",
    "g = np.linspace(0, 2*np.pi, 100)\n",
    "\n",
    "assert a.sum() == 0\n",
    "assert b.sum() == 20\n",
    "assert c.shape == (3, 2)\n",
    "assert d.ndim == 2\n",
    "assert e.ndim == 1\n",
    "assert f.sum() == 18\n",
    "assert np.abs(g.max() - 2*np.pi) < 1e-9"
   ]
  },
  {
   "cell_type": "markdown",
   "metadata": {},
   "source": [
    "### Basic operations"
   ]
  },
  {
   "cell_type": "code",
   "execution_count": null,
   "metadata": {},
   "outputs": [],
   "source": [
    "a = np.array([[1.0, 2.0], [3.0, 4.0]])\n",
    "\n",
    "# Elementwise square\n",
    "print(a**2)\n",
    "\n",
    "# Elementwise product\n",
    "print(a*a)\n",
    "\n",
    "# Matrix product\n",
    "print(a.dot(a))\n",
    "\n",
    "# Elementwise logical operation\n",
    "print(a < 3.0)\n",
    "\n",
    "# In-place modification\n",
    "a += 1\n",
    "print(a)"
   ]
  },
  {
   "cell_type": "markdown",
   "metadata": {},
   "source": [
    "### Basic unary operations"
   ]
  },
  {
   "cell_type": "code",
   "execution_count": null,
   "metadata": {},
   "outputs": [],
   "source": [
    "print(a.sum())\n",
    "print(a.min())\n",
    "print(a.max())\n",
    "\n",
    "a.sum(axis = 0)\n",
    "b.cumsum(axis = 1)"
   ]
  },
  {
   "cell_type": "code",
   "execution_count": null,
   "metadata": {},
   "outputs": [],
   "source": [
    "a = np.random.randn(4, 5)\n",
    "\n",
    "# Some built-in functions\n",
    "np.cos(a)\n",
    "np.average(a)\n",
    "np.argmin(a)\n",
    "np.transpose(a)\n",
    "np.all(a > 0)\n",
    "np.any(a < 0)\n",
    "np.cov(a)"
   ]
  },
  {
   "cell_type": "markdown",
   "metadata": {},
   "source": [
    "### Indexing, slicing, and iterating"
   ]
  },
  {
   "cell_type": "code",
   "execution_count": null,
   "metadata": {},
   "outputs": [],
   "source": [
    "a = np.arange(24).reshape((2,3,4))\n",
    "\n",
    "print('Shape: ', a.shape)\n",
    "print(a[0, -1, -1])\n",
    "print(a[1].shape) # Equivalent to a[1, :, :] or a[1, ...]\n",
    "print(a[..., 1:-1].shape) # Equivalent to a[:,:,1:-1]\n",
    "print(a[ : : 2, : : 3, : : 4].shape) # Slicing at steps of 2, 3, or 4\n",
    "\n",
    "# Iterating rows\n",
    "summ = 0\n",
    "for row in a:\n",
    "    print('Row shape:', row.shape)\n",
    "    \n",
    "# Iterating over elements\n",
    "summ = 0\n",
    "for elem in a.flat:\n",
    "    summ += 1\n",
    "print('Sum=%d' % summ)"
   ]
  },
  {
   "cell_type": "markdown",
   "metadata": {},
   "source": [
    "### Changing the size of arrays"
   ]
  },
  {
   "cell_type": "code",
   "execution_count": null,
   "metadata": {},
   "outputs": [],
   "source": [
    "a = np.random.randn(2, 3)\n",
    "\n",
    "b = a.ravel()\n",
    "print('Shape of ravel:', b.shape, ', ndim:', b.ndim) # To 1-d array\n",
    "\n",
    "print('Shape of reshaped:', a.reshape((3, -1)).shape) # Missing value -1 automatically inferred\n",
    "\n",
    "# In-place resize\n",
    "a.resize((6, 1))\n",
    "print('Shape of resized', a.shape)"
   ]
  },
  {
   "cell_type": "markdown",
   "metadata": {},
   "source": [
    "### Stacking arrays"
   ]
  },
  {
   "cell_type": "code",
   "execution_count": null,
   "metadata": {},
   "outputs": [],
   "source": [
    "a = np.ones((2, 3))\n",
    "b = np.zeros((1, 3))\n",
    "\n",
    "c = np.vstack((a, b)) # Vertical stack\n",
    "d = np.hstack((a.T, b.T)) # Horizontal stack\n",
    "\n",
    "e = np.c_[a.T, b.T] # Similar to hstack\n",
    "f = np.r_[a.ravel(), b.ravel()] # 1D array"
   ]
  },
  {
   "cell_type": "markdown",
   "metadata": {},
   "source": [
    "### Copies and views"
   ]
  },
  {
   "cell_type": "code",
   "execution_count": null,
   "metadata": {},
   "outputs": [],
   "source": [
    "a = np.arange(12).reshape((3, -1))\n",
    "\n",
    "b = a # Points to the same object\n",
    "\n",
    "assert b is a\n",
    "assert id(b) == id(a)\n",
    "\n",
    "b[0, 0] = -1\n",
    "assert a[0, 0] == -1"
   ]
  },
  {
   "cell_type": "code",
   "execution_count": null,
   "metadata": {},
   "outputs": [],
   "source": [
    "c = a.view()\n",
    "\n",
    "c.shape = (6, 2)\n",
    "\n",
    "assert c is not a\n",
    "assert c.flags.owndata is False\n",
    "\n",
    "c[0, 0] = -2\n",
    "assert a[0, 0] == -2 # a changes\n",
    "\n",
    "d = a[0, 1:]\n",
    "d[:] = -3 # a changes\n",
    "assert np.all(a[0, 1:] == -3)\n"
   ]
  },
  {
   "cell_type": "code",
   "execution_count": null,
   "metadata": {},
   "outputs": [],
   "source": [
    "e = a.copy() # Deep copy\n",
    "e[-1, -1] = 100 # a does not change\n",
    "assert a[-1, -1] == 11"
   ]
  },
  {
   "cell_type": "markdown",
   "metadata": {},
   "source": [
    "### [Broadcasting](https://docs.scipy.org/doc/numpy/user/quickstart.html#broadcasting-rules)\n",
    "\"The first rule of broadcasting is that if all input arrays do not have the same number of dimensions, a “1” will be repeatedly prepended to the shapes of the smaller arrays until all the arrays have the same number of dimensions.\n",
    "\n",
    "The second rule of broadcasting ensures that arrays with a size of 1 along a particular dimension act as if they had the size of the array with the largest shape along that dimension. The value of the array element is assumed to be the same along that dimension for the “broadcast” array.\""
   ]
  },
  {
   "cell_type": "code",
   "execution_count": null,
   "metadata": {},
   "outputs": [],
   "source": [
    "a = np.ones((4, )) # 1D array of size 4\n",
    "\n",
    "b = np.arange(1, 9).reshape((2, 4)) # 2D array of shape (2, 4)\n",
    "\n",
    "print('a shape:', a.shape)\n",
    "print('b shape:', b.shape)\n",
    "\n",
    "# Task: calculate a+b.\n",
    "# Shapes do not match, so broadcasting is required using the rules above\n",
    "\n",
    "# Compare dimensions:\n",
    "# a      4\n",
    "# b  2 x 4\n",
    "# Treat the size of a as one for the missing dimensions:\n",
    "# a  1 x 4\n",
    "# b  2 x 4\n",
    "\n",
    "# Shapes do not match in first dimension, so \"stretch\" a so that they match\n",
    "# a  2 x 4\n",
    "# b  2 x 4\n",
    "\n",
    "# The value of a remains the same along the broadcasted dimension, \n",
    "# so effectively `a = np.array([[1, 1, 1, 1], [1, 1, 1, 1]])`\n",
    "c = a + b\n",
    "\n",
    "print('Sum of c:', c.sum())\n",
    "\n",
    "# Equivalent without broadcasting:\n",
    "d = np.vstack((a, a)) + b\n",
    "print('Sum of d:', d.sum())"
   ]
  },
  {
   "cell_type": "markdown",
   "metadata": {},
   "source": [
    "### Just something fun from Python [docs](https://docs.python.org/3/tutorial/controlflow.html#keyword-arguments)"
   ]
  },
  {
   "cell_type": "code",
   "execution_count": null,
   "metadata": {},
   "outputs": [],
   "source": [
    "def cheeseshop(kind, *args, **kwargs):\n",
    "    \"\"\" Demonstrate positional arguments, \n",
    "        variable length argument lists, \n",
    "        as well as arbitrary keyword arguments.\n",
    "        \n",
    "    Args:\n",
    "        kind (str) -- Kind of cheese\n",
    "        *args: Variable length argument list of dialog lines\n",
    "        **kwargs: Arbitrary keyword arguments, with the role as key and actor as value\n",
    "    \"\"\"\n",
    "    print(\"-- Do you have any\", kind, \"?\")\n",
    "    print(\"-- I'm sorry, we're all out of\", kind)\n",
    "    for arg in args:\n",
    "        print(arg)\n",
    "    print(\"-\" * 40)\n",
    "    for kw in kwargs:\n",
    "        print('%s: %s' % (kw, kwargs[kw]))\n",
    "\n",
    "cheeseshop(\"Limburger\", \"It's very runny, sir.\",\n",
    "           \"It's really very, VERY runny, sir.\",\n",
    "           shopkeeper=\"Michael Palin\",\n",
    "           client=\"John Cleese\",\n",
    "           sketch=\"Cheese Shop Sketch\")\n"
   ]
  },
  {
   "cell_type": "code",
   "execution_count": null,
   "metadata": {},
   "outputs": [],
   "source": []
  }
 ],
 "metadata": {
  "language_info": {
   "name": "python",
   "pygments_lexer": "ipython3"
  }
 },
 "nbformat": 4,
 "nbformat_minor": 2
}
